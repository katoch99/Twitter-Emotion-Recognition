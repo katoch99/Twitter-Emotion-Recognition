{
  "nbformat": 4,
  "nbformat_minor": 0,
  "metadata": {
    "accelerator": "GPU",
    "colab": {
      "name": "Twitter Emotion Recognition using RNN.ipynb",
      "provenance": [],
      "collapsed_sections": []
    },
    "kernelspec": {
      "display_name": "Python 3",
      "language": "python",
      "name": "python3"
    },
    "language_info": {
      "codemirror_mode": {
        "name": "ipython",
        "version": 3
      },
      "file_extension": ".py",
      "mimetype": "text/x-python",
      "name": "python",
      "nbconvert_exporter": "python",
      "pygments_lexer": "ipython3",
      "version": "3.7.3"
    },
    "widgets": {
      "application/vnd.jupyter.widget-state+json": {
        "34ce67545af640338c2e45faf2650280": {
          "model_module": "@jupyter-widgets/controls",
          "model_name": "HBoxModel",
          "state": {
            "_view_name": "HBoxView",
            "_dom_classes": [],
            "_model_name": "HBoxModel",
            "_view_module": "@jupyter-widgets/controls",
            "_model_module_version": "1.5.0",
            "_view_count": null,
            "_view_module_version": "1.5.0",
            "box_style": "",
            "layout": "IPY_MODEL_a875b7badee144fb813b327c606f545d",
            "_model_module": "@jupyter-widgets/controls",
            "children": [
              "IPY_MODEL_293bae3ebb4c441a8754e0079207525e",
              "IPY_MODEL_691f56bfe2a9416fbdc502299980a72c"
            ]
          }
        },
        "a875b7badee144fb813b327c606f545d": {
          "model_module": "@jupyter-widgets/base",
          "model_name": "LayoutModel",
          "state": {
            "_view_name": "LayoutView",
            "grid_template_rows": null,
            "right": null,
            "justify_content": null,
            "_view_module": "@jupyter-widgets/base",
            "overflow": null,
            "_model_module_version": "1.2.0",
            "_view_count": null,
            "flex_flow": null,
            "width": null,
            "min_width": null,
            "border": null,
            "align_items": null,
            "bottom": null,
            "_model_module": "@jupyter-widgets/base",
            "top": null,
            "grid_column": null,
            "overflow_y": null,
            "overflow_x": null,
            "grid_auto_flow": null,
            "grid_area": null,
            "grid_template_columns": null,
            "flex": null,
            "_model_name": "LayoutModel",
            "justify_items": null,
            "grid_row": null,
            "max_height": null,
            "align_content": null,
            "visibility": null,
            "align_self": null,
            "height": null,
            "min_height": null,
            "padding": null,
            "grid_auto_rows": null,
            "grid_gap": null,
            "max_width": null,
            "order": null,
            "_view_module_version": "1.2.0",
            "grid_template_areas": null,
            "object_position": null,
            "object_fit": null,
            "grid_auto_columns": null,
            "margin": null,
            "display": null,
            "left": null
          }
        },
        "293bae3ebb4c441a8754e0079207525e": {
          "model_module": "@jupyter-widgets/controls",
          "model_name": "FloatProgressModel",
          "state": {
            "_view_name": "ProgressView",
            "style": "IPY_MODEL_ad1a1a98277140159597ef58d8c6a7cf",
            "_dom_classes": [],
            "description": "Downloading: 100%",
            "_model_name": "FloatProgressModel",
            "bar_style": "success",
            "max": 3406,
            "_view_module": "@jupyter-widgets/controls",
            "_model_module_version": "1.5.0",
            "value": 3406,
            "_view_count": null,
            "_view_module_version": "1.5.0",
            "orientation": "horizontal",
            "min": 0,
            "description_tooltip": null,
            "_model_module": "@jupyter-widgets/controls",
            "layout": "IPY_MODEL_e0e489347bf84eaa9e6736345796531e"
          }
        },
        "691f56bfe2a9416fbdc502299980a72c": {
          "model_module": "@jupyter-widgets/controls",
          "model_name": "HTMLModel",
          "state": {
            "_view_name": "HTMLView",
            "style": "IPY_MODEL_40ebf6be0eae475f80a4e95a42cb4daa",
            "_dom_classes": [],
            "description": "",
            "_model_name": "HTMLModel",
            "placeholder": "​",
            "_view_module": "@jupyter-widgets/controls",
            "_model_module_version": "1.5.0",
            "value": " 3.41k/3.41k [00:00&lt;00:00, 3.69kB/s]",
            "_view_count": null,
            "_view_module_version": "1.5.0",
            "description_tooltip": null,
            "_model_module": "@jupyter-widgets/controls",
            "layout": "IPY_MODEL_9c730a7e068e457ca022b4a894a09a50"
          }
        },
        "ad1a1a98277140159597ef58d8c6a7cf": {
          "model_module": "@jupyter-widgets/controls",
          "model_name": "ProgressStyleModel",
          "state": {
            "_view_name": "StyleView",
            "_model_name": "ProgressStyleModel",
            "description_width": "initial",
            "_view_module": "@jupyter-widgets/base",
            "_model_module_version": "1.5.0",
            "_view_count": null,
            "_view_module_version": "1.2.0",
            "bar_color": null,
            "_model_module": "@jupyter-widgets/controls"
          }
        },
        "e0e489347bf84eaa9e6736345796531e": {
          "model_module": "@jupyter-widgets/base",
          "model_name": "LayoutModel",
          "state": {
            "_view_name": "LayoutView",
            "grid_template_rows": null,
            "right": null,
            "justify_content": null,
            "_view_module": "@jupyter-widgets/base",
            "overflow": null,
            "_model_module_version": "1.2.0",
            "_view_count": null,
            "flex_flow": null,
            "width": null,
            "min_width": null,
            "border": null,
            "align_items": null,
            "bottom": null,
            "_model_module": "@jupyter-widgets/base",
            "top": null,
            "grid_column": null,
            "overflow_y": null,
            "overflow_x": null,
            "grid_auto_flow": null,
            "grid_area": null,
            "grid_template_columns": null,
            "flex": null,
            "_model_name": "LayoutModel",
            "justify_items": null,
            "grid_row": null,
            "max_height": null,
            "align_content": null,
            "visibility": null,
            "align_self": null,
            "height": null,
            "min_height": null,
            "padding": null,
            "grid_auto_rows": null,
            "grid_gap": null,
            "max_width": null,
            "order": null,
            "_view_module_version": "1.2.0",
            "grid_template_areas": null,
            "object_position": null,
            "object_fit": null,
            "grid_auto_columns": null,
            "margin": null,
            "display": null,
            "left": null
          }
        },
        "40ebf6be0eae475f80a4e95a42cb4daa": {
          "model_module": "@jupyter-widgets/controls",
          "model_name": "DescriptionStyleModel",
          "state": {
            "_view_name": "StyleView",
            "_model_name": "DescriptionStyleModel",
            "description_width": "",
            "_view_module": "@jupyter-widgets/base",
            "_model_module_version": "1.5.0",
            "_view_count": null,
            "_view_module_version": "1.2.0",
            "_model_module": "@jupyter-widgets/controls"
          }
        },
        "9c730a7e068e457ca022b4a894a09a50": {
          "model_module": "@jupyter-widgets/base",
          "model_name": "LayoutModel",
          "state": {
            "_view_name": "LayoutView",
            "grid_template_rows": null,
            "right": null,
            "justify_content": null,
            "_view_module": "@jupyter-widgets/base",
            "overflow": null,
            "_model_module_version": "1.2.0",
            "_view_count": null,
            "flex_flow": null,
            "width": null,
            "min_width": null,
            "border": null,
            "align_items": null,
            "bottom": null,
            "_model_module": "@jupyter-widgets/base",
            "top": null,
            "grid_column": null,
            "overflow_y": null,
            "overflow_x": null,
            "grid_auto_flow": null,
            "grid_area": null,
            "grid_template_columns": null,
            "flex": null,
            "_model_name": "LayoutModel",
            "justify_items": null,
            "grid_row": null,
            "max_height": null,
            "align_content": null,
            "visibility": null,
            "align_self": null,
            "height": null,
            "min_height": null,
            "padding": null,
            "grid_auto_rows": null,
            "grid_gap": null,
            "max_width": null,
            "order": null,
            "_view_module_version": "1.2.0",
            "grid_template_areas": null,
            "object_position": null,
            "object_fit": null,
            "grid_auto_columns": null,
            "margin": null,
            "display": null,
            "left": null
          }
        },
        "30dd749c33a64eef957e3a3707a452d3": {
          "model_module": "@jupyter-widgets/controls",
          "model_name": "HBoxModel",
          "state": {
            "_view_name": "HBoxView",
            "_dom_classes": [],
            "_model_name": "HBoxModel",
            "_view_module": "@jupyter-widgets/controls",
            "_model_module_version": "1.5.0",
            "_view_count": null,
            "_view_module_version": "1.5.0",
            "box_style": "",
            "layout": "IPY_MODEL_22400b87b53c4330beb0312099dd2df0",
            "_model_module": "@jupyter-widgets/controls",
            "children": [
              "IPY_MODEL_a7eecfb1ec74405db3ece070f0e90c75",
              "IPY_MODEL_ff88935971644df1a1a8e8b19dfb0b40"
            ]
          }
        },
        "22400b87b53c4330beb0312099dd2df0": {
          "model_module": "@jupyter-widgets/base",
          "model_name": "LayoutModel",
          "state": {
            "_view_name": "LayoutView",
            "grid_template_rows": null,
            "right": null,
            "justify_content": null,
            "_view_module": "@jupyter-widgets/base",
            "overflow": null,
            "_model_module_version": "1.2.0",
            "_view_count": null,
            "flex_flow": null,
            "width": null,
            "min_width": null,
            "border": null,
            "align_items": null,
            "bottom": null,
            "_model_module": "@jupyter-widgets/base",
            "top": null,
            "grid_column": null,
            "overflow_y": null,
            "overflow_x": null,
            "grid_auto_flow": null,
            "grid_area": null,
            "grid_template_columns": null,
            "flex": null,
            "_model_name": "LayoutModel",
            "justify_items": null,
            "grid_row": null,
            "max_height": null,
            "align_content": null,
            "visibility": null,
            "align_self": null,
            "height": null,
            "min_height": null,
            "padding": null,
            "grid_auto_rows": null,
            "grid_gap": null,
            "max_width": null,
            "order": null,
            "_view_module_version": "1.2.0",
            "grid_template_areas": null,
            "object_position": null,
            "object_fit": null,
            "grid_auto_columns": null,
            "margin": null,
            "display": null,
            "left": null
          }
        },
        "a7eecfb1ec74405db3ece070f0e90c75": {
          "model_module": "@jupyter-widgets/controls",
          "model_name": "FloatProgressModel",
          "state": {
            "_view_name": "ProgressView",
            "style": "IPY_MODEL_6fe32259eab64bc390880756b92604eb",
            "_dom_classes": [],
            "description": "Downloading: 100%",
            "_model_name": "FloatProgressModel",
            "bar_style": "success",
            "max": 6011,
            "_view_module": "@jupyter-widgets/controls",
            "_model_module_version": "1.5.0",
            "value": 6011,
            "_view_count": null,
            "_view_module_version": "1.5.0",
            "orientation": "horizontal",
            "min": 0,
            "description_tooltip": null,
            "_model_module": "@jupyter-widgets/controls",
            "layout": "IPY_MODEL_44457c66b4b646588d4a410b16638348"
          }
        },
        "ff88935971644df1a1a8e8b19dfb0b40": {
          "model_module": "@jupyter-widgets/controls",
          "model_name": "HTMLModel",
          "state": {
            "_view_name": "HTMLView",
            "style": "IPY_MODEL_3e84f0639d724728b12119f061fad032",
            "_dom_classes": [],
            "description": "",
            "_model_name": "HTMLModel",
            "placeholder": "​",
            "_view_module": "@jupyter-widgets/controls",
            "_model_module_version": "1.5.0",
            "value": " 6.01k/6.01k [00:00&lt;00:00, 104kB/s]",
            "_view_count": null,
            "_view_module_version": "1.5.0",
            "description_tooltip": null,
            "_model_module": "@jupyter-widgets/controls",
            "layout": "IPY_MODEL_605b35fa125b42058498f468d19673b5"
          }
        },
        "6fe32259eab64bc390880756b92604eb": {
          "model_module": "@jupyter-widgets/controls",
          "model_name": "ProgressStyleModel",
          "state": {
            "_view_name": "StyleView",
            "_model_name": "ProgressStyleModel",
            "description_width": "initial",
            "_view_module": "@jupyter-widgets/base",
            "_model_module_version": "1.5.0",
            "_view_count": null,
            "_view_module_version": "1.2.0",
            "bar_color": null,
            "_model_module": "@jupyter-widgets/controls"
          }
        },
        "44457c66b4b646588d4a410b16638348": {
          "model_module": "@jupyter-widgets/base",
          "model_name": "LayoutModel",
          "state": {
            "_view_name": "LayoutView",
            "grid_template_rows": null,
            "right": null,
            "justify_content": null,
            "_view_module": "@jupyter-widgets/base",
            "overflow": null,
            "_model_module_version": "1.2.0",
            "_view_count": null,
            "flex_flow": null,
            "width": null,
            "min_width": null,
            "border": null,
            "align_items": null,
            "bottom": null,
            "_model_module": "@jupyter-widgets/base",
            "top": null,
            "grid_column": null,
            "overflow_y": null,
            "overflow_x": null,
            "grid_auto_flow": null,
            "grid_area": null,
            "grid_template_columns": null,
            "flex": null,
            "_model_name": "LayoutModel",
            "justify_items": null,
            "grid_row": null,
            "max_height": null,
            "align_content": null,
            "visibility": null,
            "align_self": null,
            "height": null,
            "min_height": null,
            "padding": null,
            "grid_auto_rows": null,
            "grid_gap": null,
            "max_width": null,
            "order": null,
            "_view_module_version": "1.2.0",
            "grid_template_areas": null,
            "object_position": null,
            "object_fit": null,
            "grid_auto_columns": null,
            "margin": null,
            "display": null,
            "left": null
          }
        },
        "3e84f0639d724728b12119f061fad032": {
          "model_module": "@jupyter-widgets/controls",
          "model_name": "DescriptionStyleModel",
          "state": {
            "_view_name": "StyleView",
            "_model_name": "DescriptionStyleModel",
            "description_width": "",
            "_view_module": "@jupyter-widgets/base",
            "_model_module_version": "1.5.0",
            "_view_count": null,
            "_view_module_version": "1.2.0",
            "_model_module": "@jupyter-widgets/controls"
          }
        },
        "605b35fa125b42058498f468d19673b5": {
          "model_module": "@jupyter-widgets/base",
          "model_name": "LayoutModel",
          "state": {
            "_view_name": "LayoutView",
            "grid_template_rows": null,
            "right": null,
            "justify_content": null,
            "_view_module": "@jupyter-widgets/base",
            "overflow": null,
            "_model_module_version": "1.2.0",
            "_view_count": null,
            "flex_flow": null,
            "width": null,
            "min_width": null,
            "border": null,
            "align_items": null,
            "bottom": null,
            "_model_module": "@jupyter-widgets/base",
            "top": null,
            "grid_column": null,
            "overflow_y": null,
            "overflow_x": null,
            "grid_auto_flow": null,
            "grid_area": null,
            "grid_template_columns": null,
            "flex": null,
            "_model_name": "LayoutModel",
            "justify_items": null,
            "grid_row": null,
            "max_height": null,
            "align_content": null,
            "visibility": null,
            "align_self": null,
            "height": null,
            "min_height": null,
            "padding": null,
            "grid_auto_rows": null,
            "grid_gap": null,
            "max_width": null,
            "order": null,
            "_view_module_version": "1.2.0",
            "grid_template_areas": null,
            "object_position": null,
            "object_fit": null,
            "grid_auto_columns": null,
            "margin": null,
            "display": null,
            "left": null
          }
        },
        "f1af1d8a7c664c148cea0182a04ccde9": {
          "model_module": "@jupyter-widgets/controls",
          "model_name": "HBoxModel",
          "state": {
            "_view_name": "HBoxView",
            "_dom_classes": [],
            "_model_name": "HBoxModel",
            "_view_module": "@jupyter-widgets/controls",
            "_model_module_version": "1.5.0",
            "_view_count": null,
            "_view_module_version": "1.5.0",
            "box_style": "",
            "layout": "IPY_MODEL_0d9c55de07d24f8aa6b4f158de5b652c",
            "_model_module": "@jupyter-widgets/controls",
            "children": [
              "IPY_MODEL_b53f977d035247008b5c64f99bbc3bd8",
              "IPY_MODEL_709d672eca9f482296cf374e7b76845c"
            ]
          }
        },
        "0d9c55de07d24f8aa6b4f158de5b652c": {
          "model_module": "@jupyter-widgets/base",
          "model_name": "LayoutModel",
          "state": {
            "_view_name": "LayoutView",
            "grid_template_rows": null,
            "right": null,
            "justify_content": null,
            "_view_module": "@jupyter-widgets/base",
            "overflow": null,
            "_model_module_version": "1.2.0",
            "_view_count": null,
            "flex_flow": null,
            "width": null,
            "min_width": null,
            "border": null,
            "align_items": null,
            "bottom": null,
            "_model_module": "@jupyter-widgets/base",
            "top": null,
            "grid_column": null,
            "overflow_y": null,
            "overflow_x": null,
            "grid_auto_flow": null,
            "grid_area": null,
            "grid_template_columns": null,
            "flex": null,
            "_model_name": "LayoutModel",
            "justify_items": null,
            "grid_row": null,
            "max_height": null,
            "align_content": null,
            "visibility": null,
            "align_self": null,
            "height": null,
            "min_height": null,
            "padding": null,
            "grid_auto_rows": null,
            "grid_gap": null,
            "max_width": null,
            "order": null,
            "_view_module_version": "1.2.0",
            "grid_template_areas": null,
            "object_position": null,
            "object_fit": null,
            "grid_auto_columns": null,
            "margin": null,
            "display": null,
            "left": null
          }
        },
        "b53f977d035247008b5c64f99bbc3bd8": {
          "model_module": "@jupyter-widgets/controls",
          "model_name": "FloatProgressModel",
          "state": {
            "_view_name": "ProgressView",
            "style": "IPY_MODEL_674a43ccdfaa450da2cb7c0f9211a015",
            "_dom_classes": [],
            "description": "Downloading: 100%",
            "_model_name": "FloatProgressModel",
            "bar_style": "success",
            "max": 1658616,
            "_view_module": "@jupyter-widgets/controls",
            "_model_module_version": "1.5.0",
            "value": 1658616,
            "_view_count": null,
            "_view_module_version": "1.5.0",
            "orientation": "horizontal",
            "min": 0,
            "description_tooltip": null,
            "_model_module": "@jupyter-widgets/controls",
            "layout": "IPY_MODEL_6ca20d607e4446bba3569fbc59ebc9e5"
          }
        },
        "709d672eca9f482296cf374e7b76845c": {
          "model_module": "@jupyter-widgets/controls",
          "model_name": "HTMLModel",
          "state": {
            "_view_name": "HTMLView",
            "style": "IPY_MODEL_14685c5bf31a46b2b8a25e8c54e8bf11",
            "_dom_classes": [],
            "description": "",
            "_model_name": "HTMLModel",
            "placeholder": "​",
            "_view_module": "@jupyter-widgets/controls",
            "_model_module_version": "1.5.0",
            "value": " 1.66M/1.66M [00:01&lt;00:00, 1.55MB/s]",
            "_view_count": null,
            "_view_module_version": "1.5.0",
            "description_tooltip": null,
            "_model_module": "@jupyter-widgets/controls",
            "layout": "IPY_MODEL_fc3865ada9874c0c943ac6a1cc27440a"
          }
        },
        "674a43ccdfaa450da2cb7c0f9211a015": {
          "model_module": "@jupyter-widgets/controls",
          "model_name": "ProgressStyleModel",
          "state": {
            "_view_name": "StyleView",
            "_model_name": "ProgressStyleModel",
            "description_width": "initial",
            "_view_module": "@jupyter-widgets/base",
            "_model_module_version": "1.5.0",
            "_view_count": null,
            "_view_module_version": "1.2.0",
            "bar_color": null,
            "_model_module": "@jupyter-widgets/controls"
          }
        },
        "6ca20d607e4446bba3569fbc59ebc9e5": {
          "model_module": "@jupyter-widgets/base",
          "model_name": "LayoutModel",
          "state": {
            "_view_name": "LayoutView",
            "grid_template_rows": null,
            "right": null,
            "justify_content": null,
            "_view_module": "@jupyter-widgets/base",
            "overflow": null,
            "_model_module_version": "1.2.0",
            "_view_count": null,
            "flex_flow": null,
            "width": null,
            "min_width": null,
            "border": null,
            "align_items": null,
            "bottom": null,
            "_model_module": "@jupyter-widgets/base",
            "top": null,
            "grid_column": null,
            "overflow_y": null,
            "overflow_x": null,
            "grid_auto_flow": null,
            "grid_area": null,
            "grid_template_columns": null,
            "flex": null,
            "_model_name": "LayoutModel",
            "justify_items": null,
            "grid_row": null,
            "max_height": null,
            "align_content": null,
            "visibility": null,
            "align_self": null,
            "height": null,
            "min_height": null,
            "padding": null,
            "grid_auto_rows": null,
            "grid_gap": null,
            "max_width": null,
            "order": null,
            "_view_module_version": "1.2.0",
            "grid_template_areas": null,
            "object_position": null,
            "object_fit": null,
            "grid_auto_columns": null,
            "margin": null,
            "display": null,
            "left": null
          }
        },
        "14685c5bf31a46b2b8a25e8c54e8bf11": {
          "model_module": "@jupyter-widgets/controls",
          "model_name": "DescriptionStyleModel",
          "state": {
            "_view_name": "StyleView",
            "_model_name": "DescriptionStyleModel",
            "description_width": "",
            "_view_module": "@jupyter-widgets/base",
            "_model_module_version": "1.5.0",
            "_view_count": null,
            "_view_module_version": "1.2.0",
            "_model_module": "@jupyter-widgets/controls"
          }
        },
        "fc3865ada9874c0c943ac6a1cc27440a": {
          "model_module": "@jupyter-widgets/base",
          "model_name": "LayoutModel",
          "state": {
            "_view_name": "LayoutView",
            "grid_template_rows": null,
            "right": null,
            "justify_content": null,
            "_view_module": "@jupyter-widgets/base",
            "overflow": null,
            "_model_module_version": "1.2.0",
            "_view_count": null,
            "flex_flow": null,
            "width": null,
            "min_width": null,
            "border": null,
            "align_items": null,
            "bottom": null,
            "_model_module": "@jupyter-widgets/base",
            "top": null,
            "grid_column": null,
            "overflow_y": null,
            "overflow_x": null,
            "grid_auto_flow": null,
            "grid_area": null,
            "grid_template_columns": null,
            "flex": null,
            "_model_name": "LayoutModel",
            "justify_items": null,
            "grid_row": null,
            "max_height": null,
            "align_content": null,
            "visibility": null,
            "align_self": null,
            "height": null,
            "min_height": null,
            "padding": null,
            "grid_auto_rows": null,
            "grid_gap": null,
            "max_width": null,
            "order": null,
            "_view_module_version": "1.2.0",
            "grid_template_areas": null,
            "object_position": null,
            "object_fit": null,
            "grid_auto_columns": null,
            "margin": null,
            "display": null,
            "left": null
          }
        },
        "643a82a9cd1647c7bec72b193f962918": {
          "model_module": "@jupyter-widgets/controls",
          "model_name": "HBoxModel",
          "state": {
            "_view_name": "HBoxView",
            "_dom_classes": [],
            "_model_name": "HBoxModel",
            "_view_module": "@jupyter-widgets/controls",
            "_model_module_version": "1.5.0",
            "_view_count": null,
            "_view_module_version": "1.5.0",
            "box_style": "",
            "layout": "IPY_MODEL_752a64be75fa4dbabe89195495b1fec3",
            "_model_module": "@jupyter-widgets/controls",
            "children": [
              "IPY_MODEL_d0dfb8e00d484e5cb1665a800fa2ac3a",
              "IPY_MODEL_03b4ce1797e74e93bb06c37754ac5e9d"
            ]
          }
        },
        "752a64be75fa4dbabe89195495b1fec3": {
          "model_module": "@jupyter-widgets/base",
          "model_name": "LayoutModel",
          "state": {
            "_view_name": "LayoutView",
            "grid_template_rows": null,
            "right": null,
            "justify_content": null,
            "_view_module": "@jupyter-widgets/base",
            "overflow": null,
            "_model_module_version": "1.2.0",
            "_view_count": null,
            "flex_flow": null,
            "width": null,
            "min_width": null,
            "border": null,
            "align_items": null,
            "bottom": null,
            "_model_module": "@jupyter-widgets/base",
            "top": null,
            "grid_column": null,
            "overflow_y": null,
            "overflow_x": null,
            "grid_auto_flow": null,
            "grid_area": null,
            "grid_template_columns": null,
            "flex": null,
            "_model_name": "LayoutModel",
            "justify_items": null,
            "grid_row": null,
            "max_height": null,
            "align_content": null,
            "visibility": null,
            "align_self": null,
            "height": null,
            "min_height": null,
            "padding": null,
            "grid_auto_rows": null,
            "grid_gap": null,
            "max_width": null,
            "order": null,
            "_view_module_version": "1.2.0",
            "grid_template_areas": null,
            "object_position": null,
            "object_fit": null,
            "grid_auto_columns": null,
            "margin": null,
            "display": null,
            "left": null
          }
        },
        "d0dfb8e00d484e5cb1665a800fa2ac3a": {
          "model_module": "@jupyter-widgets/controls",
          "model_name": "FloatProgressModel",
          "state": {
            "_view_name": "ProgressView",
            "style": "IPY_MODEL_be6259e1a31f40659caefeb58a64bc7e",
            "_dom_classes": [],
            "description": "Downloading: 100%",
            "_model_name": "FloatProgressModel",
            "bar_style": "success",
            "max": 204240,
            "_view_module": "@jupyter-widgets/controls",
            "_model_module_version": "1.5.0",
            "value": 204240,
            "_view_count": null,
            "_view_module_version": "1.5.0",
            "orientation": "horizontal",
            "min": 0,
            "description_tooltip": null,
            "_model_module": "@jupyter-widgets/controls",
            "layout": "IPY_MODEL_a235387c398e4d1cab2357f77ccfecaa"
          }
        },
        "03b4ce1797e74e93bb06c37754ac5e9d": {
          "model_module": "@jupyter-widgets/controls",
          "model_name": "HTMLModel",
          "state": {
            "_view_name": "HTMLView",
            "style": "IPY_MODEL_33e3657c28dc46dca4b0de5108525b07",
            "_dom_classes": [],
            "description": "",
            "_model_name": "HTMLModel",
            "placeholder": "​",
            "_view_module": "@jupyter-widgets/controls",
            "_model_module_version": "1.5.0",
            "value": " 204k/204k [00:01&lt;00:00, 115kB/s]",
            "_view_count": null,
            "_view_module_version": "1.5.0",
            "description_tooltip": null,
            "_model_module": "@jupyter-widgets/controls",
            "layout": "IPY_MODEL_a707ea427621483894d88c65153ee9d1"
          }
        },
        "be6259e1a31f40659caefeb58a64bc7e": {
          "model_module": "@jupyter-widgets/controls",
          "model_name": "ProgressStyleModel",
          "state": {
            "_view_name": "StyleView",
            "_model_name": "ProgressStyleModel",
            "description_width": "initial",
            "_view_module": "@jupyter-widgets/base",
            "_model_module_version": "1.5.0",
            "_view_count": null,
            "_view_module_version": "1.2.0",
            "bar_color": null,
            "_model_module": "@jupyter-widgets/controls"
          }
        },
        "a235387c398e4d1cab2357f77ccfecaa": {
          "model_module": "@jupyter-widgets/base",
          "model_name": "LayoutModel",
          "state": {
            "_view_name": "LayoutView",
            "grid_template_rows": null,
            "right": null,
            "justify_content": null,
            "_view_module": "@jupyter-widgets/base",
            "overflow": null,
            "_model_module_version": "1.2.0",
            "_view_count": null,
            "flex_flow": null,
            "width": null,
            "min_width": null,
            "border": null,
            "align_items": null,
            "bottom": null,
            "_model_module": "@jupyter-widgets/base",
            "top": null,
            "grid_column": null,
            "overflow_y": null,
            "overflow_x": null,
            "grid_auto_flow": null,
            "grid_area": null,
            "grid_template_columns": null,
            "flex": null,
            "_model_name": "LayoutModel",
            "justify_items": null,
            "grid_row": null,
            "max_height": null,
            "align_content": null,
            "visibility": null,
            "align_self": null,
            "height": null,
            "min_height": null,
            "padding": null,
            "grid_auto_rows": null,
            "grid_gap": null,
            "max_width": null,
            "order": null,
            "_view_module_version": "1.2.0",
            "grid_template_areas": null,
            "object_position": null,
            "object_fit": null,
            "grid_auto_columns": null,
            "margin": null,
            "display": null,
            "left": null
          }
        },
        "33e3657c28dc46dca4b0de5108525b07": {
          "model_module": "@jupyter-widgets/controls",
          "model_name": "DescriptionStyleModel",
          "state": {
            "_view_name": "StyleView",
            "_model_name": "DescriptionStyleModel",
            "description_width": "",
            "_view_module": "@jupyter-widgets/base",
            "_model_module_version": "1.5.0",
            "_view_count": null,
            "_view_module_version": "1.2.0",
            "_model_module": "@jupyter-widgets/controls"
          }
        },
        "a707ea427621483894d88c65153ee9d1": {
          "model_module": "@jupyter-widgets/base",
          "model_name": "LayoutModel",
          "state": {
            "_view_name": "LayoutView",
            "grid_template_rows": null,
            "right": null,
            "justify_content": null,
            "_view_module": "@jupyter-widgets/base",
            "overflow": null,
            "_model_module_version": "1.2.0",
            "_view_count": null,
            "flex_flow": null,
            "width": null,
            "min_width": null,
            "border": null,
            "align_items": null,
            "bottom": null,
            "_model_module": "@jupyter-widgets/base",
            "top": null,
            "grid_column": null,
            "overflow_y": null,
            "overflow_x": null,
            "grid_auto_flow": null,
            "grid_area": null,
            "grid_template_columns": null,
            "flex": null,
            "_model_name": "LayoutModel",
            "justify_items": null,
            "grid_row": null,
            "max_height": null,
            "align_content": null,
            "visibility": null,
            "align_self": null,
            "height": null,
            "min_height": null,
            "padding": null,
            "grid_auto_rows": null,
            "grid_gap": null,
            "max_width": null,
            "order": null,
            "_view_module_version": "1.2.0",
            "grid_template_areas": null,
            "object_position": null,
            "object_fit": null,
            "grid_auto_columns": null,
            "margin": null,
            "display": null,
            "left": null
          }
        },
        "e75566c54bd64f03835d2c4a01308ead": {
          "model_module": "@jupyter-widgets/controls",
          "model_name": "HBoxModel",
          "state": {
            "_view_name": "HBoxView",
            "_dom_classes": [],
            "_model_name": "HBoxModel",
            "_view_module": "@jupyter-widgets/controls",
            "_model_module_version": "1.5.0",
            "_view_count": null,
            "_view_module_version": "1.5.0",
            "box_style": "",
            "layout": "IPY_MODEL_f95d899e6d204500a1f0c2d9fd5e1f29",
            "_model_module": "@jupyter-widgets/controls",
            "children": [
              "IPY_MODEL_afa2cdbc58b84ad6a47b1227320a3ab4",
              "IPY_MODEL_a842d628f1c14d38b5eb97ceb1d3ee6d"
            ]
          }
        },
        "f95d899e6d204500a1f0c2d9fd5e1f29": {
          "model_module": "@jupyter-widgets/base",
          "model_name": "LayoutModel",
          "state": {
            "_view_name": "LayoutView",
            "grid_template_rows": null,
            "right": null,
            "justify_content": null,
            "_view_module": "@jupyter-widgets/base",
            "overflow": null,
            "_model_module_version": "1.2.0",
            "_view_count": null,
            "flex_flow": null,
            "width": null,
            "min_width": null,
            "border": null,
            "align_items": null,
            "bottom": null,
            "_model_module": "@jupyter-widgets/base",
            "top": null,
            "grid_column": null,
            "overflow_y": null,
            "overflow_x": null,
            "grid_auto_flow": null,
            "grid_area": null,
            "grid_template_columns": null,
            "flex": null,
            "_model_name": "LayoutModel",
            "justify_items": null,
            "grid_row": null,
            "max_height": null,
            "align_content": null,
            "visibility": null,
            "align_self": null,
            "height": null,
            "min_height": null,
            "padding": null,
            "grid_auto_rows": null,
            "grid_gap": null,
            "max_width": null,
            "order": null,
            "_view_module_version": "1.2.0",
            "grid_template_areas": null,
            "object_position": null,
            "object_fit": null,
            "grid_auto_columns": null,
            "margin": null,
            "display": null,
            "left": null
          }
        },
        "afa2cdbc58b84ad6a47b1227320a3ab4": {
          "model_module": "@jupyter-widgets/controls",
          "model_name": "FloatProgressModel",
          "state": {
            "_view_name": "ProgressView",
            "style": "IPY_MODEL_93a8c8d32807489897f3de3b346bd75e",
            "_dom_classes": [],
            "description": "Downloading: 100%",
            "_model_name": "FloatProgressModel",
            "bar_style": "success",
            "max": 206760,
            "_view_module": "@jupyter-widgets/controls",
            "_model_module_version": "1.5.0",
            "value": 206760,
            "_view_count": null,
            "_view_module_version": "1.5.0",
            "orientation": "horizontal",
            "min": 0,
            "description_tooltip": null,
            "_model_module": "@jupyter-widgets/controls",
            "layout": "IPY_MODEL_1a167cc1c7c5424390daeef688cb6fe8"
          }
        },
        "a842d628f1c14d38b5eb97ceb1d3ee6d": {
          "model_module": "@jupyter-widgets/controls",
          "model_name": "HTMLModel",
          "state": {
            "_view_name": "HTMLView",
            "style": "IPY_MODEL_c0577dede98243109131765307992f9d",
            "_dom_classes": [],
            "description": "",
            "_model_name": "HTMLModel",
            "placeholder": "​",
            "_view_module": "@jupyter-widgets/controls",
            "_model_module_version": "1.5.0",
            "value": " 207k/207k [00:00&lt;00:00, 2.75MB/s]",
            "_view_count": null,
            "_view_module_version": "1.5.0",
            "description_tooltip": null,
            "_model_module": "@jupyter-widgets/controls",
            "layout": "IPY_MODEL_0ffe701d471d49859c63eba763bfb149"
          }
        },
        "93a8c8d32807489897f3de3b346bd75e": {
          "model_module": "@jupyter-widgets/controls",
          "model_name": "ProgressStyleModel",
          "state": {
            "_view_name": "StyleView",
            "_model_name": "ProgressStyleModel",
            "description_width": "initial",
            "_view_module": "@jupyter-widgets/base",
            "_model_module_version": "1.5.0",
            "_view_count": null,
            "_view_module_version": "1.2.0",
            "bar_color": null,
            "_model_module": "@jupyter-widgets/controls"
          }
        },
        "1a167cc1c7c5424390daeef688cb6fe8": {
          "model_module": "@jupyter-widgets/base",
          "model_name": "LayoutModel",
          "state": {
            "_view_name": "LayoutView",
            "grid_template_rows": null,
            "right": null,
            "justify_content": null,
            "_view_module": "@jupyter-widgets/base",
            "overflow": null,
            "_model_module_version": "1.2.0",
            "_view_count": null,
            "flex_flow": null,
            "width": null,
            "min_width": null,
            "border": null,
            "align_items": null,
            "bottom": null,
            "_model_module": "@jupyter-widgets/base",
            "top": null,
            "grid_column": null,
            "overflow_y": null,
            "overflow_x": null,
            "grid_auto_flow": null,
            "grid_area": null,
            "grid_template_columns": null,
            "flex": null,
            "_model_name": "LayoutModel",
            "justify_items": null,
            "grid_row": null,
            "max_height": null,
            "align_content": null,
            "visibility": null,
            "align_self": null,
            "height": null,
            "min_height": null,
            "padding": null,
            "grid_auto_rows": null,
            "grid_gap": null,
            "max_width": null,
            "order": null,
            "_view_module_version": "1.2.0",
            "grid_template_areas": null,
            "object_position": null,
            "object_fit": null,
            "grid_auto_columns": null,
            "margin": null,
            "display": null,
            "left": null
          }
        },
        "c0577dede98243109131765307992f9d": {
          "model_module": "@jupyter-widgets/controls",
          "model_name": "DescriptionStyleModel",
          "state": {
            "_view_name": "StyleView",
            "_model_name": "DescriptionStyleModel",
            "description_width": "",
            "_view_module": "@jupyter-widgets/base",
            "_model_module_version": "1.5.0",
            "_view_count": null,
            "_view_module_version": "1.2.0",
            "_model_module": "@jupyter-widgets/controls"
          }
        },
        "0ffe701d471d49859c63eba763bfb149": {
          "model_module": "@jupyter-widgets/base",
          "model_name": "LayoutModel",
          "state": {
            "_view_name": "LayoutView",
            "grid_template_rows": null,
            "right": null,
            "justify_content": null,
            "_view_module": "@jupyter-widgets/base",
            "overflow": null,
            "_model_module_version": "1.2.0",
            "_view_count": null,
            "flex_flow": null,
            "width": null,
            "min_width": null,
            "border": null,
            "align_items": null,
            "bottom": null,
            "_model_module": "@jupyter-widgets/base",
            "top": null,
            "grid_column": null,
            "overflow_y": null,
            "overflow_x": null,
            "grid_auto_flow": null,
            "grid_area": null,
            "grid_template_columns": null,
            "flex": null,
            "_model_name": "LayoutModel",
            "justify_items": null,
            "grid_row": null,
            "max_height": null,
            "align_content": null,
            "visibility": null,
            "align_self": null,
            "height": null,
            "min_height": null,
            "padding": null,
            "grid_auto_rows": null,
            "grid_gap": null,
            "max_width": null,
            "order": null,
            "_view_module_version": "1.2.0",
            "grid_template_areas": null,
            "object_position": null,
            "object_fit": null,
            "grid_auto_columns": null,
            "margin": null,
            "display": null,
            "left": null
          }
        },
        "1a3ee52a06b04007adf3f6316146bb57": {
          "model_module": "@jupyter-widgets/controls",
          "model_name": "HBoxModel",
          "state": {
            "_view_name": "HBoxView",
            "_dom_classes": [],
            "_model_name": "HBoxModel",
            "_view_module": "@jupyter-widgets/controls",
            "_model_module_version": "1.5.0",
            "_view_count": null,
            "_view_module_version": "1.5.0",
            "box_style": "",
            "layout": "IPY_MODEL_74b822dcf74d42e4980df136c2ae678c",
            "_model_module": "@jupyter-widgets/controls",
            "children": [
              "IPY_MODEL_e44979fabb774e2aa43fe9d69d61252c",
              "IPY_MODEL_0a9a43b759f84eba837a65fa6b8f5b1c"
            ]
          }
        },
        "74b822dcf74d42e4980df136c2ae678c": {
          "model_module": "@jupyter-widgets/base",
          "model_name": "LayoutModel",
          "state": {
            "_view_name": "LayoutView",
            "grid_template_rows": null,
            "right": null,
            "justify_content": null,
            "_view_module": "@jupyter-widgets/base",
            "overflow": null,
            "_model_module_version": "1.2.0",
            "_view_count": null,
            "flex_flow": null,
            "width": null,
            "min_width": null,
            "border": null,
            "align_items": null,
            "bottom": null,
            "_model_module": "@jupyter-widgets/base",
            "top": null,
            "grid_column": null,
            "overflow_y": null,
            "overflow_x": null,
            "grid_auto_flow": null,
            "grid_area": null,
            "grid_template_columns": null,
            "flex": null,
            "_model_name": "LayoutModel",
            "justify_items": null,
            "grid_row": null,
            "max_height": null,
            "align_content": null,
            "visibility": null,
            "align_self": null,
            "height": null,
            "min_height": null,
            "padding": null,
            "grid_auto_rows": null,
            "grid_gap": null,
            "max_width": null,
            "order": null,
            "_view_module_version": "1.2.0",
            "grid_template_areas": null,
            "object_position": null,
            "object_fit": null,
            "grid_auto_columns": null,
            "margin": null,
            "display": null,
            "left": null
          }
        },
        "e44979fabb774e2aa43fe9d69d61252c": {
          "model_module": "@jupyter-widgets/controls",
          "model_name": "FloatProgressModel",
          "state": {
            "_view_name": "ProgressView",
            "style": "IPY_MODEL_df61f9f8e1c446539e14abff3312f7bb",
            "_dom_classes": [],
            "description": "",
            "_model_name": "FloatProgressModel",
            "bar_style": "info",
            "max": 1,
            "_view_module": "@jupyter-widgets/controls",
            "_model_module_version": "1.5.0",
            "value": 1,
            "_view_count": null,
            "_view_module_version": "1.5.0",
            "orientation": "horizontal",
            "min": 0,
            "description_tooltip": null,
            "_model_module": "@jupyter-widgets/controls",
            "layout": "IPY_MODEL_165b8853010d484496c30fffa0ef5829"
          }
        },
        "0a9a43b759f84eba837a65fa6b8f5b1c": {
          "model_module": "@jupyter-widgets/controls",
          "model_name": "HTMLModel",
          "state": {
            "_view_name": "HTMLView",
            "style": "IPY_MODEL_e24a7e6e565b438796b74a6d7a875b37",
            "_dom_classes": [],
            "description": "",
            "_model_name": "HTMLModel",
            "placeholder": "​",
            "_view_module": "@jupyter-widgets/controls",
            "_model_module_version": "1.5.0",
            "value": " 16000/0 [00:00&lt;00:00, 35982.89 examples/s]",
            "_view_count": null,
            "_view_module_version": "1.5.0",
            "description_tooltip": null,
            "_model_module": "@jupyter-widgets/controls",
            "layout": "IPY_MODEL_2c612b75986d48f39e521e2702edd657"
          }
        },
        "df61f9f8e1c446539e14abff3312f7bb": {
          "model_module": "@jupyter-widgets/controls",
          "model_name": "ProgressStyleModel",
          "state": {
            "_view_name": "StyleView",
            "_model_name": "ProgressStyleModel",
            "description_width": "initial",
            "_view_module": "@jupyter-widgets/base",
            "_model_module_version": "1.5.0",
            "_view_count": null,
            "_view_module_version": "1.2.0",
            "bar_color": null,
            "_model_module": "@jupyter-widgets/controls"
          }
        },
        "165b8853010d484496c30fffa0ef5829": {
          "model_module": "@jupyter-widgets/base",
          "model_name": "LayoutModel",
          "state": {
            "_view_name": "LayoutView",
            "grid_template_rows": null,
            "right": null,
            "justify_content": null,
            "_view_module": "@jupyter-widgets/base",
            "overflow": null,
            "_model_module_version": "1.2.0",
            "_view_count": null,
            "flex_flow": null,
            "width": null,
            "min_width": null,
            "border": null,
            "align_items": null,
            "bottom": null,
            "_model_module": "@jupyter-widgets/base",
            "top": null,
            "grid_column": null,
            "overflow_y": null,
            "overflow_x": null,
            "grid_auto_flow": null,
            "grid_area": null,
            "grid_template_columns": null,
            "flex": null,
            "_model_name": "LayoutModel",
            "justify_items": null,
            "grid_row": null,
            "max_height": null,
            "align_content": null,
            "visibility": null,
            "align_self": null,
            "height": null,
            "min_height": null,
            "padding": null,
            "grid_auto_rows": null,
            "grid_gap": null,
            "max_width": null,
            "order": null,
            "_view_module_version": "1.2.0",
            "grid_template_areas": null,
            "object_position": null,
            "object_fit": null,
            "grid_auto_columns": null,
            "margin": null,
            "display": null,
            "left": null
          }
        },
        "e24a7e6e565b438796b74a6d7a875b37": {
          "model_module": "@jupyter-widgets/controls",
          "model_name": "DescriptionStyleModel",
          "state": {
            "_view_name": "StyleView",
            "_model_name": "DescriptionStyleModel",
            "description_width": "",
            "_view_module": "@jupyter-widgets/base",
            "_model_module_version": "1.5.0",
            "_view_count": null,
            "_view_module_version": "1.2.0",
            "_model_module": "@jupyter-widgets/controls"
          }
        },
        "2c612b75986d48f39e521e2702edd657": {
          "model_module": "@jupyter-widgets/base",
          "model_name": "LayoutModel",
          "state": {
            "_view_name": "LayoutView",
            "grid_template_rows": null,
            "right": null,
            "justify_content": null,
            "_view_module": "@jupyter-widgets/base",
            "overflow": null,
            "_model_module_version": "1.2.0",
            "_view_count": null,
            "flex_flow": null,
            "width": null,
            "min_width": null,
            "border": null,
            "align_items": null,
            "bottom": null,
            "_model_module": "@jupyter-widgets/base",
            "top": null,
            "grid_column": null,
            "overflow_y": null,
            "overflow_x": null,
            "grid_auto_flow": null,
            "grid_area": null,
            "grid_template_columns": null,
            "flex": null,
            "_model_name": "LayoutModel",
            "justify_items": null,
            "grid_row": null,
            "max_height": null,
            "align_content": null,
            "visibility": null,
            "align_self": null,
            "height": null,
            "min_height": null,
            "padding": null,
            "grid_auto_rows": null,
            "grid_gap": null,
            "max_width": null,
            "order": null,
            "_view_module_version": "1.2.0",
            "grid_template_areas": null,
            "object_position": null,
            "object_fit": null,
            "grid_auto_columns": null,
            "margin": null,
            "display": null,
            "left": null
          }
        },
        "cedd341a7bf34e9ab6f5635e739d6bb6": {
          "model_module": "@jupyter-widgets/controls",
          "model_name": "HBoxModel",
          "state": {
            "_view_name": "HBoxView",
            "_dom_classes": [],
            "_model_name": "HBoxModel",
            "_view_module": "@jupyter-widgets/controls",
            "_model_module_version": "1.5.0",
            "_view_count": null,
            "_view_module_version": "1.5.0",
            "box_style": "",
            "layout": "IPY_MODEL_75776a5d595f42efa4c2fb8b28627bfb",
            "_model_module": "@jupyter-widgets/controls",
            "children": [
              "IPY_MODEL_7d0a7e1f138d46429b9a26dfd051acb2",
              "IPY_MODEL_23c6b292360f40eaaa2f85d10492d490"
            ]
          }
        },
        "75776a5d595f42efa4c2fb8b28627bfb": {
          "model_module": "@jupyter-widgets/base",
          "model_name": "LayoutModel",
          "state": {
            "_view_name": "LayoutView",
            "grid_template_rows": null,
            "right": null,
            "justify_content": null,
            "_view_module": "@jupyter-widgets/base",
            "overflow": null,
            "_model_module_version": "1.2.0",
            "_view_count": null,
            "flex_flow": null,
            "width": null,
            "min_width": null,
            "border": null,
            "align_items": null,
            "bottom": null,
            "_model_module": "@jupyter-widgets/base",
            "top": null,
            "grid_column": null,
            "overflow_y": null,
            "overflow_x": null,
            "grid_auto_flow": null,
            "grid_area": null,
            "grid_template_columns": null,
            "flex": null,
            "_model_name": "LayoutModel",
            "justify_items": null,
            "grid_row": null,
            "max_height": null,
            "align_content": null,
            "visibility": null,
            "align_self": null,
            "height": null,
            "min_height": null,
            "padding": null,
            "grid_auto_rows": null,
            "grid_gap": null,
            "max_width": null,
            "order": null,
            "_view_module_version": "1.2.0",
            "grid_template_areas": null,
            "object_position": null,
            "object_fit": null,
            "grid_auto_columns": null,
            "margin": null,
            "display": null,
            "left": null
          }
        },
        "7d0a7e1f138d46429b9a26dfd051acb2": {
          "model_module": "@jupyter-widgets/controls",
          "model_name": "FloatProgressModel",
          "state": {
            "_view_name": "ProgressView",
            "style": "IPY_MODEL_a3113489080148c4893dfd20870b211e",
            "_dom_classes": [],
            "description": "",
            "_model_name": "FloatProgressModel",
            "bar_style": "info",
            "max": 1,
            "_view_module": "@jupyter-widgets/controls",
            "_model_module_version": "1.5.0",
            "value": 1,
            "_view_count": null,
            "_view_module_version": "1.5.0",
            "orientation": "horizontal",
            "min": 0,
            "description_tooltip": null,
            "_model_module": "@jupyter-widgets/controls",
            "layout": "IPY_MODEL_1f840d8e22cb410e940dd20a3aeb58c2"
          }
        },
        "23c6b292360f40eaaa2f85d10492d490": {
          "model_module": "@jupyter-widgets/controls",
          "model_name": "HTMLModel",
          "state": {
            "_view_name": "HTMLView",
            "style": "IPY_MODEL_7708a49b8e88497c9232ab49d411219a",
            "_dom_classes": [],
            "description": "",
            "_model_name": "HTMLModel",
            "placeholder": "​",
            "_view_module": "@jupyter-widgets/controls",
            "_model_module_version": "1.5.0",
            "value": " 2000/0 [00:00&lt;00:00, 25418.41 examples/s]",
            "_view_count": null,
            "_view_module_version": "1.5.0",
            "description_tooltip": null,
            "_model_module": "@jupyter-widgets/controls",
            "layout": "IPY_MODEL_8f9c10a7b44d412f94c40b3bcd3d4ce4"
          }
        },
        "a3113489080148c4893dfd20870b211e": {
          "model_module": "@jupyter-widgets/controls",
          "model_name": "ProgressStyleModel",
          "state": {
            "_view_name": "StyleView",
            "_model_name": "ProgressStyleModel",
            "description_width": "initial",
            "_view_module": "@jupyter-widgets/base",
            "_model_module_version": "1.5.0",
            "_view_count": null,
            "_view_module_version": "1.2.0",
            "bar_color": null,
            "_model_module": "@jupyter-widgets/controls"
          }
        },
        "1f840d8e22cb410e940dd20a3aeb58c2": {
          "model_module": "@jupyter-widgets/base",
          "model_name": "LayoutModel",
          "state": {
            "_view_name": "LayoutView",
            "grid_template_rows": null,
            "right": null,
            "justify_content": null,
            "_view_module": "@jupyter-widgets/base",
            "overflow": null,
            "_model_module_version": "1.2.0",
            "_view_count": null,
            "flex_flow": null,
            "width": null,
            "min_width": null,
            "border": null,
            "align_items": null,
            "bottom": null,
            "_model_module": "@jupyter-widgets/base",
            "top": null,
            "grid_column": null,
            "overflow_y": null,
            "overflow_x": null,
            "grid_auto_flow": null,
            "grid_area": null,
            "grid_template_columns": null,
            "flex": null,
            "_model_name": "LayoutModel",
            "justify_items": null,
            "grid_row": null,
            "max_height": null,
            "align_content": null,
            "visibility": null,
            "align_self": null,
            "height": null,
            "min_height": null,
            "padding": null,
            "grid_auto_rows": null,
            "grid_gap": null,
            "max_width": null,
            "order": null,
            "_view_module_version": "1.2.0",
            "grid_template_areas": null,
            "object_position": null,
            "object_fit": null,
            "grid_auto_columns": null,
            "margin": null,
            "display": null,
            "left": null
          }
        },
        "7708a49b8e88497c9232ab49d411219a": {
          "model_module": "@jupyter-widgets/controls",
          "model_name": "DescriptionStyleModel",
          "state": {
            "_view_name": "StyleView",
            "_model_name": "DescriptionStyleModel",
            "description_width": "",
            "_view_module": "@jupyter-widgets/base",
            "_model_module_version": "1.5.0",
            "_view_count": null,
            "_view_module_version": "1.2.0",
            "_model_module": "@jupyter-widgets/controls"
          }
        },
        "8f9c10a7b44d412f94c40b3bcd3d4ce4": {
          "model_module": "@jupyter-widgets/base",
          "model_name": "LayoutModel",
          "state": {
            "_view_name": "LayoutView",
            "grid_template_rows": null,
            "right": null,
            "justify_content": null,
            "_view_module": "@jupyter-widgets/base",
            "overflow": null,
            "_model_module_version": "1.2.0",
            "_view_count": null,
            "flex_flow": null,
            "width": null,
            "min_width": null,
            "border": null,
            "align_items": null,
            "bottom": null,
            "_model_module": "@jupyter-widgets/base",
            "top": null,
            "grid_column": null,
            "overflow_y": null,
            "overflow_x": null,
            "grid_auto_flow": null,
            "grid_area": null,
            "grid_template_columns": null,
            "flex": null,
            "_model_name": "LayoutModel",
            "justify_items": null,
            "grid_row": null,
            "max_height": null,
            "align_content": null,
            "visibility": null,
            "align_self": null,
            "height": null,
            "min_height": null,
            "padding": null,
            "grid_auto_rows": null,
            "grid_gap": null,
            "max_width": null,
            "order": null,
            "_view_module_version": "1.2.0",
            "grid_template_areas": null,
            "object_position": null,
            "object_fit": null,
            "grid_auto_columns": null,
            "margin": null,
            "display": null,
            "left": null
          }
        },
        "f4168ede76c845c7a5106fde9eaec5da": {
          "model_module": "@jupyter-widgets/controls",
          "model_name": "HBoxModel",
          "state": {
            "_view_name": "HBoxView",
            "_dom_classes": [],
            "_model_name": "HBoxModel",
            "_view_module": "@jupyter-widgets/controls",
            "_model_module_version": "1.5.0",
            "_view_count": null,
            "_view_module_version": "1.5.0",
            "box_style": "",
            "layout": "IPY_MODEL_5fc1df04d18948c0b87be10379ea51f3",
            "_model_module": "@jupyter-widgets/controls",
            "children": [
              "IPY_MODEL_63459b39dc2b4cbca3f1fdaeb992a6ab",
              "IPY_MODEL_a92791e4afcf4c03af792bc0fb2b120e"
            ]
          }
        },
        "5fc1df04d18948c0b87be10379ea51f3": {
          "model_module": "@jupyter-widgets/base",
          "model_name": "LayoutModel",
          "state": {
            "_view_name": "LayoutView",
            "grid_template_rows": null,
            "right": null,
            "justify_content": null,
            "_view_module": "@jupyter-widgets/base",
            "overflow": null,
            "_model_module_version": "1.2.0",
            "_view_count": null,
            "flex_flow": null,
            "width": null,
            "min_width": null,
            "border": null,
            "align_items": null,
            "bottom": null,
            "_model_module": "@jupyter-widgets/base",
            "top": null,
            "grid_column": null,
            "overflow_y": null,
            "overflow_x": null,
            "grid_auto_flow": null,
            "grid_area": null,
            "grid_template_columns": null,
            "flex": null,
            "_model_name": "LayoutModel",
            "justify_items": null,
            "grid_row": null,
            "max_height": null,
            "align_content": null,
            "visibility": null,
            "align_self": null,
            "height": null,
            "min_height": null,
            "padding": null,
            "grid_auto_rows": null,
            "grid_gap": null,
            "max_width": null,
            "order": null,
            "_view_module_version": "1.2.0",
            "grid_template_areas": null,
            "object_position": null,
            "object_fit": null,
            "grid_auto_columns": null,
            "margin": null,
            "display": null,
            "left": null
          }
        },
        "63459b39dc2b4cbca3f1fdaeb992a6ab": {
          "model_module": "@jupyter-widgets/controls",
          "model_name": "FloatProgressModel",
          "state": {
            "_view_name": "ProgressView",
            "style": "IPY_MODEL_700993c236754b2788db60f61c0a62c9",
            "_dom_classes": [],
            "description": "",
            "_model_name": "FloatProgressModel",
            "bar_style": "info",
            "max": 1,
            "_view_module": "@jupyter-widgets/controls",
            "_model_module_version": "1.5.0",
            "value": 1,
            "_view_count": null,
            "_view_module_version": "1.5.0",
            "orientation": "horizontal",
            "min": 0,
            "description_tooltip": null,
            "_model_module": "@jupyter-widgets/controls",
            "layout": "IPY_MODEL_9581dcfcdbf843abae1894341db61fe8"
          }
        },
        "a92791e4afcf4c03af792bc0fb2b120e": {
          "model_module": "@jupyter-widgets/controls",
          "model_name": "HTMLModel",
          "state": {
            "_view_name": "HTMLView",
            "style": "IPY_MODEL_3c3a644f36544640ab2255db0ec1f55c",
            "_dom_classes": [],
            "description": "",
            "_model_name": "HTMLModel",
            "placeholder": "​",
            "_view_module": "@jupyter-widgets/controls",
            "_model_module_version": "1.5.0",
            "value": " 2000/0 [00:00&lt;00:00, 29222.08 examples/s]",
            "_view_count": null,
            "_view_module_version": "1.5.0",
            "description_tooltip": null,
            "_model_module": "@jupyter-widgets/controls",
            "layout": "IPY_MODEL_77fffd82779143d09bedc6bce25aada4"
          }
        },
        "700993c236754b2788db60f61c0a62c9": {
          "model_module": "@jupyter-widgets/controls",
          "model_name": "ProgressStyleModel",
          "state": {
            "_view_name": "StyleView",
            "_model_name": "ProgressStyleModel",
            "description_width": "initial",
            "_view_module": "@jupyter-widgets/base",
            "_model_module_version": "1.5.0",
            "_view_count": null,
            "_view_module_version": "1.2.0",
            "bar_color": null,
            "_model_module": "@jupyter-widgets/controls"
          }
        },
        "9581dcfcdbf843abae1894341db61fe8": {
          "model_module": "@jupyter-widgets/base",
          "model_name": "LayoutModel",
          "state": {
            "_view_name": "LayoutView",
            "grid_template_rows": null,
            "right": null,
            "justify_content": null,
            "_view_module": "@jupyter-widgets/base",
            "overflow": null,
            "_model_module_version": "1.2.0",
            "_view_count": null,
            "flex_flow": null,
            "width": null,
            "min_width": null,
            "border": null,
            "align_items": null,
            "bottom": null,
            "_model_module": "@jupyter-widgets/base",
            "top": null,
            "grid_column": null,
            "overflow_y": null,
            "overflow_x": null,
            "grid_auto_flow": null,
            "grid_area": null,
            "grid_template_columns": null,
            "flex": null,
            "_model_name": "LayoutModel",
            "justify_items": null,
            "grid_row": null,
            "max_height": null,
            "align_content": null,
            "visibility": null,
            "align_self": null,
            "height": null,
            "min_height": null,
            "padding": null,
            "grid_auto_rows": null,
            "grid_gap": null,
            "max_width": null,
            "order": null,
            "_view_module_version": "1.2.0",
            "grid_template_areas": null,
            "object_position": null,
            "object_fit": null,
            "grid_auto_columns": null,
            "margin": null,
            "display": null,
            "left": null
          }
        },
        "3c3a644f36544640ab2255db0ec1f55c": {
          "model_module": "@jupyter-widgets/controls",
          "model_name": "DescriptionStyleModel",
          "state": {
            "_view_name": "StyleView",
            "_model_name": "DescriptionStyleModel",
            "description_width": "",
            "_view_module": "@jupyter-widgets/base",
            "_model_module_version": "1.5.0",
            "_view_count": null,
            "_view_module_version": "1.2.0",
            "_model_module": "@jupyter-widgets/controls"
          }
        },
        "77fffd82779143d09bedc6bce25aada4": {
          "model_module": "@jupyter-widgets/base",
          "model_name": "LayoutModel",
          "state": {
            "_view_name": "LayoutView",
            "grid_template_rows": null,
            "right": null,
            "justify_content": null,
            "_view_module": "@jupyter-widgets/base",
            "overflow": null,
            "_model_module_version": "1.2.0",
            "_view_count": null,
            "flex_flow": null,
            "width": null,
            "min_width": null,
            "border": null,
            "align_items": null,
            "bottom": null,
            "_model_module": "@jupyter-widgets/base",
            "top": null,
            "grid_column": null,
            "overflow_y": null,
            "overflow_x": null,
            "grid_auto_flow": null,
            "grid_area": null,
            "grid_template_columns": null,
            "flex": null,
            "_model_name": "LayoutModel",
            "justify_items": null,
            "grid_row": null,
            "max_height": null,
            "align_content": null,
            "visibility": null,
            "align_self": null,
            "height": null,
            "min_height": null,
            "padding": null,
            "grid_auto_rows": null,
            "grid_gap": null,
            "max_width": null,
            "order": null,
            "_view_module_version": "1.2.0",
            "grid_template_areas": null,
            "object_position": null,
            "object_fit": null,
            "grid_auto_columns": null,
            "margin": null,
            "display": null,
            "left": null
          }
        }
      }
    }
  },
  "cells": [
    {
      "cell_type": "markdown",
      "metadata": {
        "id": "sp7D0ktn5eiG"
      },
      "source": [
        "## **Twitter Emotion Recognition using RNN**\n",
        "\n",
        "---\n",
        "\n",
        "[Tweet Emotion Dataset](https://github.com/dair-ai/emotion_dataset)\n"
      ]
    },
    {
      "cell_type": "markdown",
      "metadata": {
        "id": "dLnDPdYJiJHv"
      },
      "source": [
        "## 1. Installing Hugging Face's nlp package"
      ]
    },
    {
      "cell_type": "code",
      "metadata": {
        "colab": {
          "base_uri": "https://localhost:8080/"
        },
        "id": "5agZRy-45i0g",
        "outputId": "0e480392-362c-48b4-ec49-d2cdda488d61"
      },
      "source": [
        "!pip install nlp"
      ],
      "execution_count": 1,
      "outputs": [
        {
          "output_type": "stream",
          "text": [
            "Collecting nlp\n",
            "\u001b[?25l  Downloading https://files.pythonhosted.org/packages/09/e3/bcdc59f3434b224040c1047769c47b82705feca2b89ebbc28311e3764782/nlp-0.4.0-py3-none-any.whl (1.7MB)\n",
            "\r\u001b[K     |▏                               | 10kB 13.6MB/s eta 0:00:01\r\u001b[K     |▍                               | 20kB 14.9MB/s eta 0:00:01\r\u001b[K     |▋                               | 30kB 15.3MB/s eta 0:00:01\r\u001b[K     |▉                               | 40kB 13.0MB/s eta 0:00:01\r\u001b[K     |█                               | 51kB 11.3MB/s eta 0:00:01\r\u001b[K     |█▏                              | 61kB 11.7MB/s eta 0:00:01\r\u001b[K     |█▍                              | 71kB 11.1MB/s eta 0:00:01\r\u001b[K     |█▋                              | 81kB 11.4MB/s eta 0:00:01\r\u001b[K     |█▉                              | 92kB 12.5MB/s eta 0:00:01\r\u001b[K     |██                              | 102kB 12.4MB/s eta 0:00:01\r\u001b[K     |██▏                             | 112kB 12.4MB/s eta 0:00:01\r\u001b[K     |██▍                             | 122kB 12.4MB/s eta 0:00:01\r\u001b[K     |██▋                             | 133kB 12.4MB/s eta 0:00:01\r\u001b[K     |██▊                             | 143kB 12.4MB/s eta 0:00:01\r\u001b[K     |███                             | 153kB 12.4MB/s eta 0:00:01\r\u001b[K     |███▏                            | 163kB 12.4MB/s eta 0:00:01\r\u001b[K     |███▍                            | 174kB 12.4MB/s eta 0:00:01\r\u001b[K     |███▋                            | 184kB 12.4MB/s eta 0:00:01\r\u001b[K     |███▊                            | 194kB 12.4MB/s eta 0:00:01\r\u001b[K     |████                            | 204kB 12.4MB/s eta 0:00:01\r\u001b[K     |████▏                           | 215kB 12.4MB/s eta 0:00:01\r\u001b[K     |████▍                           | 225kB 12.4MB/s eta 0:00:01\r\u001b[K     |████▌                           | 235kB 12.4MB/s eta 0:00:01\r\u001b[K     |████▊                           | 245kB 12.4MB/s eta 0:00:01\r\u001b[K     |█████                           | 256kB 12.4MB/s eta 0:00:01\r\u001b[K     |█████▏                          | 266kB 12.4MB/s eta 0:00:01\r\u001b[K     |█████▍                          | 276kB 12.4MB/s eta 0:00:01\r\u001b[K     |█████▌                          | 286kB 12.4MB/s eta 0:00:01\r\u001b[K     |█████▊                          | 296kB 12.4MB/s eta 0:00:01\r\u001b[K     |██████                          | 307kB 12.4MB/s eta 0:00:01\r\u001b[K     |██████▏                         | 317kB 12.4MB/s eta 0:00:01\r\u001b[K     |██████▎                         | 327kB 12.4MB/s eta 0:00:01\r\u001b[K     |██████▌                         | 337kB 12.4MB/s eta 0:00:01\r\u001b[K     |██████▊                         | 348kB 12.4MB/s eta 0:00:01\r\u001b[K     |███████                         | 358kB 12.4MB/s eta 0:00:01\r\u001b[K     |███████▏                        | 368kB 12.4MB/s eta 0:00:01\r\u001b[K     |███████▎                        | 378kB 12.4MB/s eta 0:00:01\r\u001b[K     |███████▌                        | 389kB 12.4MB/s eta 0:00:01\r\u001b[K     |███████▊                        | 399kB 12.4MB/s eta 0:00:01\r\u001b[K     |████████                        | 409kB 12.4MB/s eta 0:00:01\r\u001b[K     |████████                        | 419kB 12.4MB/s eta 0:00:01\r\u001b[K     |████████▎                       | 430kB 12.4MB/s eta 0:00:01\r\u001b[K     |████████▌                       | 440kB 12.4MB/s eta 0:00:01\r\u001b[K     |████████▊                       | 450kB 12.4MB/s eta 0:00:01\r\u001b[K     |█████████                       | 460kB 12.4MB/s eta 0:00:01\r\u001b[K     |█████████                       | 471kB 12.4MB/s eta 0:00:01\r\u001b[K     |█████████▎                      | 481kB 12.4MB/s eta 0:00:01\r\u001b[K     |█████████▌                      | 491kB 12.4MB/s eta 0:00:01\r\u001b[K     |█████████▊                      | 501kB 12.4MB/s eta 0:00:01\r\u001b[K     |█████████▉                      | 512kB 12.4MB/s eta 0:00:01\r\u001b[K     |██████████                      | 522kB 12.4MB/s eta 0:00:01\r\u001b[K     |██████████▎                     | 532kB 12.4MB/s eta 0:00:01\r\u001b[K     |██████████▌                     | 542kB 12.4MB/s eta 0:00:01\r\u001b[K     |██████████▊                     | 552kB 12.4MB/s eta 0:00:01\r\u001b[K     |██████████▉                     | 563kB 12.4MB/s eta 0:00:01\r\u001b[K     |███████████                     | 573kB 12.4MB/s eta 0:00:01\r\u001b[K     |███████████▎                    | 583kB 12.4MB/s eta 0:00:01\r\u001b[K     |███████████▌                    | 593kB 12.4MB/s eta 0:00:01\r\u001b[K     |███████████▋                    | 604kB 12.4MB/s eta 0:00:01\r\u001b[K     |███████████▉                    | 614kB 12.4MB/s eta 0:00:01\r\u001b[K     |████████████                    | 624kB 12.4MB/s eta 0:00:01\r\u001b[K     |████████████▎                   | 634kB 12.4MB/s eta 0:00:01\r\u001b[K     |████████████▌                   | 645kB 12.4MB/s eta 0:00:01\r\u001b[K     |████████████▋                   | 655kB 12.4MB/s eta 0:00:01\r\u001b[K     |████████████▉                   | 665kB 12.4MB/s eta 0:00:01\r\u001b[K     |█████████████                   | 675kB 12.4MB/s eta 0:00:01\r\u001b[K     |█████████████▎                  | 686kB 12.4MB/s eta 0:00:01\r\u001b[K     |█████████████▍                  | 696kB 12.4MB/s eta 0:00:01\r\u001b[K     |█████████████▋                  | 706kB 12.4MB/s eta 0:00:01\r\u001b[K     |█████████████▉                  | 716kB 12.4MB/s eta 0:00:01\r\u001b[K     |██████████████                  | 727kB 12.4MB/s eta 0:00:01\r\u001b[K     |██████████████▎                 | 737kB 12.4MB/s eta 0:00:01\r\u001b[K     |██████████████▍                 | 747kB 12.4MB/s eta 0:00:01\r\u001b[K     |██████████████▋                 | 757kB 12.4MB/s eta 0:00:01\r\u001b[K     |██████████████▉                 | 768kB 12.4MB/s eta 0:00:01\r\u001b[K     |███████████████                 | 778kB 12.4MB/s eta 0:00:01\r\u001b[K     |███████████████▏                | 788kB 12.4MB/s eta 0:00:01\r\u001b[K     |███████████████▍                | 798kB 12.4MB/s eta 0:00:01\r\u001b[K     |███████████████▋                | 808kB 12.4MB/s eta 0:00:01\r\u001b[K     |███████████████▉                | 819kB 12.4MB/s eta 0:00:01\r\u001b[K     |████████████████                | 829kB 12.4MB/s eta 0:00:01\r\u001b[K     |████████████████▏               | 839kB 12.4MB/s eta 0:00:01\r\u001b[K     |████████████████▍               | 849kB 12.4MB/s eta 0:00:01\r\u001b[K     |████████████████▋               | 860kB 12.4MB/s eta 0:00:01\r\u001b[K     |████████████████▉               | 870kB 12.4MB/s eta 0:00:01\r\u001b[K     |█████████████████               | 880kB 12.4MB/s eta 0:00:01\r\u001b[K     |█████████████████▏              | 890kB 12.4MB/s eta 0:00:01\r\u001b[K     |█████████████████▍              | 901kB 12.4MB/s eta 0:00:01\r\u001b[K     |█████████████████▋              | 911kB 12.4MB/s eta 0:00:01\r\u001b[K     |█████████████████▉              | 921kB 12.4MB/s eta 0:00:01\r\u001b[K     |██████████████████              | 931kB 12.4MB/s eta 0:00:01\r\u001b[K     |██████████████████▏             | 942kB 12.4MB/s eta 0:00:01\r\u001b[K     |██████████████████▍             | 952kB 12.4MB/s eta 0:00:01\r\u001b[K     |██████████████████▋             | 962kB 12.4MB/s eta 0:00:01\r\u001b[K     |██████████████████▊             | 972kB 12.4MB/s eta 0:00:01\r\u001b[K     |███████████████████             | 983kB 12.4MB/s eta 0:00:01\r\u001b[K     |███████████████████▏            | 993kB 12.4MB/s eta 0:00:01\r\u001b[K     |███████████████████▍            | 1.0MB 12.4MB/s eta 0:00:01\r\u001b[K     |███████████████████▋            | 1.0MB 12.4MB/s eta 0:00:01\r\u001b[K     |███████████████████▊            | 1.0MB 12.4MB/s eta 0:00:01\r\u001b[K     |████████████████████            | 1.0MB 12.4MB/s eta 0:00:01\r\u001b[K     |████████████████████▏           | 1.0MB 12.4MB/s eta 0:00:01\r\u001b[K     |████████████████████▍           | 1.1MB 12.4MB/s eta 0:00:01\r\u001b[K     |████████████████████▌           | 1.1MB 12.4MB/s eta 0:00:01\r\u001b[K     |████████████████████▊           | 1.1MB 12.4MB/s eta 0:00:01\r\u001b[K     |█████████████████████           | 1.1MB 12.4MB/s eta 0:00:01\r\u001b[K     |█████████████████████▏          | 1.1MB 12.4MB/s eta 0:00:01\r\u001b[K     |█████████████████████▍          | 1.1MB 12.4MB/s eta 0:00:01\r\u001b[K     |█████████████████████▌          | 1.1MB 12.4MB/s eta 0:00:01\r\u001b[K     |█████████████████████▊          | 1.1MB 12.4MB/s eta 0:00:01\r\u001b[K     |██████████████████████          | 1.1MB 12.4MB/s eta 0:00:01\r\u001b[K     |██████████████████████▏         | 1.1MB 12.4MB/s eta 0:00:01\r\u001b[K     |██████████████████████▎         | 1.2MB 12.4MB/s eta 0:00:01\r\u001b[K     |██████████████████████▌         | 1.2MB 12.4MB/s eta 0:00:01\r\u001b[K     |██████████████████████▊         | 1.2MB 12.4MB/s eta 0:00:01\r\u001b[K     |███████████████████████         | 1.2MB 12.4MB/s eta 0:00:01\r\u001b[K     |███████████████████████▏        | 1.2MB 12.4MB/s eta 0:00:01\r\u001b[K     |███████████████████████▎        | 1.2MB 12.4MB/s eta 0:00:01\r\u001b[K     |███████████████████████▌        | 1.2MB 12.4MB/s eta 0:00:01\r\u001b[K     |███████████████████████▊        | 1.2MB 12.4MB/s eta 0:00:01\r\u001b[K     |████████████████████████        | 1.2MB 12.4MB/s eta 0:00:01\r\u001b[K     |████████████████████████        | 1.2MB 12.4MB/s eta 0:00:01\r\u001b[K     |████████████████████████▎       | 1.3MB 12.4MB/s eta 0:00:01\r\u001b[K     |████████████████████████▌       | 1.3MB 12.4MB/s eta 0:00:01\r\u001b[K     |████████████████████████▊       | 1.3MB 12.4MB/s eta 0:00:01\r\u001b[K     |█████████████████████████       | 1.3MB 12.4MB/s eta 0:00:01\r\u001b[K     |█████████████████████████       | 1.3MB 12.4MB/s eta 0:00:01\r\u001b[K     |█████████████████████████▎      | 1.3MB 12.4MB/s eta 0:00:01\r\u001b[K     |█████████████████████████▌      | 1.3MB 12.4MB/s eta 0:00:01\r\u001b[K     |█████████████████████████▊      | 1.3MB 12.4MB/s eta 0:00:01\r\u001b[K     |█████████████████████████▉      | 1.3MB 12.4MB/s eta 0:00:01\r\u001b[K     |██████████████████████████      | 1.4MB 12.4MB/s eta 0:00:01\r\u001b[K     |██████████████████████████▎     | 1.4MB 12.4MB/s eta 0:00:01\r\u001b[K     |██████████████████████████▌     | 1.4MB 12.4MB/s eta 0:00:01\r\u001b[K     |██████████████████████████▊     | 1.4MB 12.4MB/s eta 0:00:01\r\u001b[K     |██████████████████████████▉     | 1.4MB 12.4MB/s eta 0:00:01\r\u001b[K     |███████████████████████████     | 1.4MB 12.4MB/s eta 0:00:01\r\u001b[K     |███████████████████████████▎    | 1.4MB 12.4MB/s eta 0:00:01\r\u001b[K     |███████████████████████████▌    | 1.4MB 12.4MB/s eta 0:00:01\r\u001b[K     |███████████████████████████▋    | 1.4MB 12.4MB/s eta 0:00:01\r\u001b[K     |███████████████████████████▉    | 1.4MB 12.4MB/s eta 0:00:01\r\u001b[K     |████████████████████████████    | 1.5MB 12.4MB/s eta 0:00:01\r\u001b[K     |████████████████████████████▎   | 1.5MB 12.4MB/s eta 0:00:01\r\u001b[K     |████████████████████████████▌   | 1.5MB 12.4MB/s eta 0:00:01\r\u001b[K     |████████████████████████████▋   | 1.5MB 12.4MB/s eta 0:00:01\r\u001b[K     |████████████████████████████▉   | 1.5MB 12.4MB/s eta 0:00:01\r\u001b[K     |█████████████████████████████   | 1.5MB 12.4MB/s eta 0:00:01\r\u001b[K     |█████████████████████████████▎  | 1.5MB 12.4MB/s eta 0:00:01\r\u001b[K     |█████████████████████████████▍  | 1.5MB 12.4MB/s eta 0:00:01\r\u001b[K     |█████████████████████████████▋  | 1.5MB 12.4MB/s eta 0:00:01\r\u001b[K     |█████████████████████████████▉  | 1.5MB 12.4MB/s eta 0:00:01\r\u001b[K     |██████████████████████████████  | 1.6MB 12.4MB/s eta 0:00:01\r\u001b[K     |██████████████████████████████▎ | 1.6MB 12.4MB/s eta 0:00:01\r\u001b[K     |██████████████████████████████▍ | 1.6MB 12.4MB/s eta 0:00:01\r\u001b[K     |██████████████████████████████▋ | 1.6MB 12.4MB/s eta 0:00:01\r\u001b[K     |██████████████████████████████▉ | 1.6MB 12.4MB/s eta 0:00:01\r\u001b[K     |███████████████████████████████ | 1.6MB 12.4MB/s eta 0:00:01\r\u001b[K     |███████████████████████████████▏| 1.6MB 12.4MB/s eta 0:00:01\r\u001b[K     |███████████████████████████████▍| 1.6MB 12.4MB/s eta 0:00:01\r\u001b[K     |███████████████████████████████▋| 1.6MB 12.4MB/s eta 0:00:01\r\u001b[K     |███████████████████████████████▉| 1.6MB 12.4MB/s eta 0:00:01\r\u001b[K     |████████████████████████████████| 1.7MB 12.4MB/s \n",
            "\u001b[?25hRequirement already satisfied: pyarrow>=0.16.0 in /usr/local/lib/python3.7/dist-packages (from nlp) (3.0.0)\n",
            "Requirement already satisfied: filelock in /usr/local/lib/python3.7/dist-packages (from nlp) (3.0.12)\n",
            "Requirement already satisfied: numpy in /usr/local/lib/python3.7/dist-packages (from nlp) (1.19.5)\n",
            "Requirement already satisfied: dill in /usr/local/lib/python3.7/dist-packages (from nlp) (0.3.3)\n",
            "Requirement already satisfied: pandas in /usr/local/lib/python3.7/dist-packages (from nlp) (1.1.5)\n",
            "Requirement already satisfied: requests>=2.19.0 in /usr/local/lib/python3.7/dist-packages (from nlp) (2.23.0)\n",
            "Requirement already satisfied: tqdm>=4.27 in /usr/local/lib/python3.7/dist-packages (from nlp) (4.41.1)\n",
            "Collecting xxhash\n",
            "\u001b[?25l  Downloading https://files.pythonhosted.org/packages/e7/27/1c0b37c53a7852f1c190ba5039404d27b3ae96a55f48203a74259f8213c9/xxhash-2.0.0-cp37-cp37m-manylinux2010_x86_64.whl (243kB)\n",
            "\u001b[K     |████████████████████████████████| 245kB 50.8MB/s \n",
            "\u001b[?25hRequirement already satisfied: python-dateutil>=2.7.3 in /usr/local/lib/python3.7/dist-packages (from pandas->nlp) (2.8.1)\n",
            "Requirement already satisfied: pytz>=2017.2 in /usr/local/lib/python3.7/dist-packages (from pandas->nlp) (2018.9)\n",
            "Requirement already satisfied: idna<3,>=2.5 in /usr/local/lib/python3.7/dist-packages (from requests>=2.19.0->nlp) (2.10)\n",
            "Requirement already satisfied: chardet<4,>=3.0.2 in /usr/local/lib/python3.7/dist-packages (from requests>=2.19.0->nlp) (3.0.4)\n",
            "Requirement already satisfied: certifi>=2017.4.17 in /usr/local/lib/python3.7/dist-packages (from requests>=2.19.0->nlp) (2020.12.5)\n",
            "Requirement already satisfied: urllib3!=1.25.0,!=1.25.1,<1.26,>=1.21.1 in /usr/local/lib/python3.7/dist-packages (from requests>=2.19.0->nlp) (1.24.3)\n",
            "Requirement already satisfied: six>=1.5 in /usr/local/lib/python3.7/dist-packages (from python-dateutil>=2.7.3->pandas->nlp) (1.15.0)\n",
            "Installing collected packages: xxhash, nlp\n",
            "Successfully installed nlp-0.4.0 xxhash-2.0.0\n"
          ],
          "name": "stdout"
        }
      ]
    },
    {
      "cell_type": "markdown",
      "metadata": {
        "id": "Ecz7shv-ClA1"
      },
      "source": [
        "## 2. Importing the libraries"
      ]
    },
    {
      "cell_type": "code",
      "metadata": {
        "id": "yKFjWz6e5eiH"
      },
      "source": [
        "%matplotlib inline\n",
        "\n",
        "import tensorflow as tf\n",
        "import numpy as np\n",
        "import matplotlib.pyplot as plt\n",
        "import nlp\n",
        "import random"
      ],
      "execution_count": 2,
      "outputs": []
    },
    {
      "cell_type": "code",
      "metadata": {
        "id": "826tQBp5zlb1"
      },
      "source": [
        "import warnings\r\n",
        "warnings.filterwarnings('ignore')"
      ],
      "execution_count": 3,
      "outputs": []
    },
    {
      "cell_type": "markdown",
      "metadata": {
        "id": "nvfVk2GNiJH5"
      },
      "source": [
        "## 3. Importing the Dataset"
      ]
    },
    {
      "cell_type": "code",
      "metadata": {
        "id": "0YHOvjAu5eiL",
        "colab": {
          "base_uri": "https://localhost:8080/",
          "height": 342,
          "referenced_widgets": [
            "34ce67545af640338c2e45faf2650280",
            "a875b7badee144fb813b327c606f545d",
            "293bae3ebb4c441a8754e0079207525e",
            "691f56bfe2a9416fbdc502299980a72c",
            "ad1a1a98277140159597ef58d8c6a7cf",
            "e0e489347bf84eaa9e6736345796531e",
            "40ebf6be0eae475f80a4e95a42cb4daa",
            "9c730a7e068e457ca022b4a894a09a50",
            "30dd749c33a64eef957e3a3707a452d3",
            "22400b87b53c4330beb0312099dd2df0",
            "a7eecfb1ec74405db3ece070f0e90c75",
            "ff88935971644df1a1a8e8b19dfb0b40",
            "6fe32259eab64bc390880756b92604eb",
            "44457c66b4b646588d4a410b16638348",
            "3e84f0639d724728b12119f061fad032",
            "605b35fa125b42058498f468d19673b5",
            "f1af1d8a7c664c148cea0182a04ccde9",
            "0d9c55de07d24f8aa6b4f158de5b652c",
            "b53f977d035247008b5c64f99bbc3bd8",
            "709d672eca9f482296cf374e7b76845c",
            "674a43ccdfaa450da2cb7c0f9211a015",
            "6ca20d607e4446bba3569fbc59ebc9e5",
            "14685c5bf31a46b2b8a25e8c54e8bf11",
            "fc3865ada9874c0c943ac6a1cc27440a",
            "643a82a9cd1647c7bec72b193f962918",
            "752a64be75fa4dbabe89195495b1fec3",
            "d0dfb8e00d484e5cb1665a800fa2ac3a",
            "03b4ce1797e74e93bb06c37754ac5e9d",
            "be6259e1a31f40659caefeb58a64bc7e",
            "a235387c398e4d1cab2357f77ccfecaa",
            "33e3657c28dc46dca4b0de5108525b07",
            "a707ea427621483894d88c65153ee9d1",
            "e75566c54bd64f03835d2c4a01308ead",
            "f95d899e6d204500a1f0c2d9fd5e1f29",
            "afa2cdbc58b84ad6a47b1227320a3ab4",
            "a842d628f1c14d38b5eb97ceb1d3ee6d",
            "93a8c8d32807489897f3de3b346bd75e",
            "1a167cc1c7c5424390daeef688cb6fe8",
            "c0577dede98243109131765307992f9d",
            "0ffe701d471d49859c63eba763bfb149",
            "1a3ee52a06b04007adf3f6316146bb57",
            "74b822dcf74d42e4980df136c2ae678c",
            "e44979fabb774e2aa43fe9d69d61252c",
            "0a9a43b759f84eba837a65fa6b8f5b1c",
            "df61f9f8e1c446539e14abff3312f7bb",
            "165b8853010d484496c30fffa0ef5829",
            "e24a7e6e565b438796b74a6d7a875b37",
            "2c612b75986d48f39e521e2702edd657",
            "cedd341a7bf34e9ab6f5635e739d6bb6",
            "75776a5d595f42efa4c2fb8b28627bfb",
            "7d0a7e1f138d46429b9a26dfd051acb2",
            "23c6b292360f40eaaa2f85d10492d490",
            "a3113489080148c4893dfd20870b211e",
            "1f840d8e22cb410e940dd20a3aeb58c2",
            "7708a49b8e88497c9232ab49d411219a",
            "8f9c10a7b44d412f94c40b3bcd3d4ce4",
            "f4168ede76c845c7a5106fde9eaec5da",
            "5fc1df04d18948c0b87be10379ea51f3",
            "63459b39dc2b4cbca3f1fdaeb992a6ab",
            "a92791e4afcf4c03af792bc0fb2b120e",
            "700993c236754b2788db60f61c0a62c9",
            "9581dcfcdbf843abae1894341db61fe8",
            "3c3a644f36544640ab2255db0ec1f55c",
            "77fffd82779143d09bedc6bce25aada4"
          ]
        },
        "outputId": "411eb4c0-7fd8-4c15-f388-85a530564000"
      },
      "source": [
        "dataset = nlp.load_dataset('emotion')"
      ],
      "execution_count": 4,
      "outputs": [
        {
          "output_type": "display_data",
          "data": {
            "application/vnd.jupyter.widget-view+json": {
              "model_id": "34ce67545af640338c2e45faf2650280",
              "version_minor": 0,
              "version_major": 2
            },
            "text/plain": [
              "HBox(children=(FloatProgress(value=0.0, description='Downloading', max=3406.0, style=ProgressStyle(description…"
            ]
          },
          "metadata": {
            "tags": []
          }
        },
        {
          "output_type": "stream",
          "text": [
            "\n"
          ],
          "name": "stdout"
        },
        {
          "output_type": "display_data",
          "data": {
            "application/vnd.jupyter.widget-view+json": {
              "model_id": "30dd749c33a64eef957e3a3707a452d3",
              "version_minor": 0,
              "version_major": 2
            },
            "text/plain": [
              "HBox(children=(FloatProgress(value=0.0, description='Downloading', max=6011.0, style=ProgressStyle(description…"
            ]
          },
          "metadata": {
            "tags": []
          }
        },
        {
          "output_type": "stream",
          "text": [
            "Using custom data configuration default\n"
          ],
          "name": "stderr"
        },
        {
          "output_type": "stream",
          "text": [
            "\n",
            "Downloading and preparing dataset emotion/default (download: 1.97 MiB, generated: 2.09 MiB, post-processed: Unknown sizetotal: 4.06 MiB) to /root/.cache/huggingface/datasets/emotion/default/0.0.0/84e07cd366f4451464584cdbd4958f512bcaddb1e921341e07298ce8a9ce42f4...\n"
          ],
          "name": "stdout"
        },
        {
          "output_type": "display_data",
          "data": {
            "application/vnd.jupyter.widget-view+json": {
              "model_id": "f1af1d8a7c664c148cea0182a04ccde9",
              "version_minor": 0,
              "version_major": 2
            },
            "text/plain": [
              "HBox(children=(FloatProgress(value=0.0, description='Downloading', max=1658616.0, style=ProgressStyle(descript…"
            ]
          },
          "metadata": {
            "tags": []
          }
        },
        {
          "output_type": "stream",
          "text": [
            "\n"
          ],
          "name": "stdout"
        },
        {
          "output_type": "display_data",
          "data": {
            "application/vnd.jupyter.widget-view+json": {
              "model_id": "643a82a9cd1647c7bec72b193f962918",
              "version_minor": 0,
              "version_major": 2
            },
            "text/plain": [
              "HBox(children=(FloatProgress(value=0.0, description='Downloading', max=204240.0, style=ProgressStyle(descripti…"
            ]
          },
          "metadata": {
            "tags": []
          }
        },
        {
          "output_type": "stream",
          "text": [
            "\n"
          ],
          "name": "stdout"
        },
        {
          "output_type": "display_data",
          "data": {
            "application/vnd.jupyter.widget-view+json": {
              "model_id": "e75566c54bd64f03835d2c4a01308ead",
              "version_minor": 0,
              "version_major": 2
            },
            "text/plain": [
              "HBox(children=(FloatProgress(value=0.0, description='Downloading', max=206760.0, style=ProgressStyle(descripti…"
            ]
          },
          "metadata": {
            "tags": []
          }
        },
        {
          "output_type": "stream",
          "text": [
            "\n"
          ],
          "name": "stdout"
        },
        {
          "output_type": "display_data",
          "data": {
            "application/vnd.jupyter.widget-view+json": {
              "model_id": "1a3ee52a06b04007adf3f6316146bb57",
              "version_minor": 0,
              "version_major": 2
            },
            "text/plain": [
              "HBox(children=(FloatProgress(value=1.0, bar_style='info', max=1.0), HTML(value='')))"
            ]
          },
          "metadata": {
            "tags": []
          }
        },
        {
          "output_type": "stream",
          "text": [
            "\r"
          ],
          "name": "stdout"
        },
        {
          "output_type": "display_data",
          "data": {
            "application/vnd.jupyter.widget-view+json": {
              "model_id": "cedd341a7bf34e9ab6f5635e739d6bb6",
              "version_minor": 0,
              "version_major": 2
            },
            "text/plain": [
              "HBox(children=(FloatProgress(value=1.0, bar_style='info', max=1.0), HTML(value='')))"
            ]
          },
          "metadata": {
            "tags": []
          }
        },
        {
          "output_type": "stream",
          "text": [
            "\r"
          ],
          "name": "stdout"
        },
        {
          "output_type": "display_data",
          "data": {
            "application/vnd.jupyter.widget-view+json": {
              "model_id": "f4168ede76c845c7a5106fde9eaec5da",
              "version_minor": 0,
              "version_major": 2
            },
            "text/plain": [
              "HBox(children=(FloatProgress(value=1.0, bar_style='info', max=1.0), HTML(value='')))"
            ]
          },
          "metadata": {
            "tags": []
          }
        },
        {
          "output_type": "stream",
          "text": [
            "\rDataset emotion downloaded and prepared to /root/.cache/huggingface/datasets/emotion/default/0.0.0/84e07cd366f4451464584cdbd4958f512bcaddb1e921341e07298ce8a9ce42f4. Subsequent calls will reuse this data.\n"
          ],
          "name": "stdout"
        }
      ]
    },
    {
      "cell_type": "code",
      "metadata": {
        "id": "jpi1dL1wiJH8",
        "colab": {
          "base_uri": "https://localhost:8080/"
        },
        "outputId": "092914bf-923f-4bb4-86c8-ca295b0b851b"
      },
      "source": [
        "dataset"
      ],
      "execution_count": 5,
      "outputs": [
        {
          "output_type": "execute_result",
          "data": {
            "text/plain": [
              "{'test': Dataset(features: {'text': Value(dtype='string', id=None), 'label': Value(dtype='string', id=None)}, num_rows: 2000),\n",
              " 'train': Dataset(features: {'text': Value(dtype='string', id=None), 'label': Value(dtype='string', id=None)}, num_rows: 16000),\n",
              " 'validation': Dataset(features: {'text': Value(dtype='string', id=None), 'label': Value(dtype='string', id=None)}, num_rows: 2000)}"
            ]
          },
          "metadata": {
            "tags": []
          },
          "execution_count": 5
        }
      ]
    },
    {
      "cell_type": "code",
      "metadata": {
        "id": "z7eCnxU25eiN"
      },
      "source": [
        "train = dataset['train']\n",
        "val = dataset['validation']\n",
        "test = dataset['test']"
      ],
      "execution_count": 6,
      "outputs": []
    },
    {
      "cell_type": "code",
      "metadata": {
        "id": "oDYXMfZy5eiP"
      },
      "source": [
        "def get_tweets(data):\n",
        "    tweets = [x['text'] for x in data]\n",
        "    labels = [x['label'] for x in data]\n",
        "    return tweets, labels"
      ],
      "execution_count": 7,
      "outputs": []
    },
    {
      "cell_type": "code",
      "metadata": {
        "id": "jeq3-vSB5eiR"
      },
      "source": [
        "tweets, labels = get_tweets(train)"
      ],
      "execution_count": 8,
      "outputs": []
    },
    {
      "cell_type": "code",
      "metadata": {
        "id": "bHD3Tk0J5eiU",
        "colab": {
          "base_uri": "https://localhost:8080/"
        },
        "outputId": "dde40bf6-e662-49d9-da29-be09514ea4b2"
      },
      "source": [
        "tweets[10], labels[10]"
      ],
      "execution_count": 9,
      "outputs": [
        {
          "output_type": "execute_result",
          "data": {
            "text/plain": [
              "('i feel like i have to make the suffering i m seeing mean something',\n",
              " 'sadness')"
            ]
          },
          "metadata": {
            "tags": []
          },
          "execution_count": 9
        }
      ]
    },
    {
      "cell_type": "markdown",
      "metadata": {
        "id": "9guH0-5qiJII"
      },
      "source": [
        "## 4. Tokenizing the Tweets"
      ]
    },
    {
      "cell_type": "code",
      "metadata": {
        "id": "IYN8LWDmiJII"
      },
      "source": [
        "from tensorflow.keras.preprocessing.text import Tokenizer"
      ],
      "execution_count": 10,
      "outputs": []
    },
    {
      "cell_type": "code",
      "metadata": {
        "id": "cckUvwBo5eif",
        "colab": {
          "base_uri": "https://localhost:8080/"
        },
        "outputId": "5a8e8d73-52a1-4789-ee67-8c64fa7334ed"
      },
      "source": [
        "tokenizer = Tokenizer(num_words=10000, oov_token='<UNK>')\n",
        "\n",
        "tokenizer.fit_on_texts(tweets)\n",
        "\n",
        "print(tokenizer.texts_to_sequences([tweets[10]]))"
      ],
      "execution_count": 11,
      "outputs": [
        {
          "output_type": "stream",
          "text": [
            "[[2, 3, 14, 2, 21, 5, 80, 6, 733, 2, 93, 544, 304, 84]]\n"
          ],
          "name": "stdout"
        }
      ]
    },
    {
      "cell_type": "markdown",
      "metadata": {
        "id": "5AwQt4AgiJIJ"
      },
      "source": [
        "## 5. Padding and Truncating Sequences"
      ]
    },
    {
      "cell_type": "code",
      "metadata": {
        "id": "bbDdupDkiJIJ",
        "colab": {
          "base_uri": "https://localhost:8080/",
          "height": 265
        },
        "outputId": "046592bd-a3a1-4b9b-e3a8-5789610c84d1"
      },
      "source": [
        "lengths = [len(t.split(' ')) for t in tweets]\n",
        "\n",
        "plt.hist(lengths, bins=len(set(lengths)))\n",
        "plt.show()"
      ],
      "execution_count": 12,
      "outputs": [
        {
          "output_type": "display_data",
          "data": {
            "image/png": "[encoded data removed]",
            "text/plain": [
              "<Figure size 432x288 with 1 Axes>"
            ]
          },
          "metadata": {
            "tags": [],
            "needs_background": "light"
          }
        }
      ]
    },
    {
      "cell_type": "code",
      "metadata": {
        "id": "tpOTvhoriJIK"
      },
      "source": [
        "from tensorflow.keras.preprocessing.sequence import pad_sequences"
      ],
      "execution_count": 13,
      "outputs": []
    },
    {
      "cell_type": "code",
      "metadata": {
        "id": "Q9J_Iemf5eiq"
      },
      "source": [
        "def get_sequences(tokenizer, tweets):\n",
        "    sequences = tokenizer.texts_to_sequences(tweets)\n",
        "    padded_sequences = pad_sequences(sequences, truncating='post', maxlen=50, padding='post')\n",
        "    return padded_sequences"
      ],
      "execution_count": 14,
      "outputs": []
    },
    {
      "cell_type": "code",
      "metadata": {
        "id": "eglH77ky5ei0"
      },
      "source": [
        "padded_train_sequences = get_sequences(tokenizer, tweets)"
      ],
      "execution_count": 15,
      "outputs": []
    },
    {
      "cell_type": "code",
      "metadata": {
        "id": "iGR473HA5ei7",
        "colab": {
          "base_uri": "https://localhost:8080/"
        },
        "outputId": "24268d40-1685-4b2d-bc6b-dd5f2f6dbaf5"
      },
      "source": [
        "padded_train_sequences[10]"
      ],
      "execution_count": 16,
      "outputs": [
        {
          "output_type": "execute_result",
          "data": {
            "text/plain": [
              "array([  2,   3,  14,   2,  21,   5,  80,   6, 733,   2,  93, 544, 304,\n",
              "        84,   0,   0,   0,   0,   0,   0,   0,   0,   0,   0,   0,   0,\n",
              "         0,   0,   0,   0,   0,   0,   0,   0,   0,   0,   0,   0,   0,\n",
              "         0,   0,   0,   0,   0,   0,   0,   0,   0,   0,   0], dtype=int32)"
            ]
          },
          "metadata": {
            "tags": []
          },
          "execution_count": 16
        }
      ]
    },
    {
      "cell_type": "markdown",
      "metadata": {
        "id": "cZ5SSsM4iJIL"
      },
      "source": [
        "## 6. Preparing the Labels"
      ]
    },
    {
      "cell_type": "code",
      "metadata": {
        "id": "SufT2bpD5ejE",
        "colab": {
          "base_uri": "https://localhost:8080/"
        },
        "outputId": "985137b7-b4bb-432e-99e9-186545507243"
      },
      "source": [
        "classes = set(labels)\n",
        "print(classes)"
      ],
      "execution_count": 17,
      "outputs": [
        {
          "output_type": "stream",
          "text": [
            "{'surprise', 'joy', 'love', 'anger', 'fear', 'sadness'}\n"
          ],
          "name": "stdout"
        }
      ]
    },
    {
      "cell_type": "code",
      "metadata": {
        "id": "rpwzL88I7YSm",
        "colab": {
          "base_uri": "https://localhost:8080/",
          "height": 265
        },
        "outputId": "d1696bc7-48d5-4e3d-afc9-96cc6437bddd"
      },
      "source": [
        "plt.hist(labels, bins=11)\n",
        "plt.show()"
      ],
      "execution_count": 18,
      "outputs": [
        {
          "output_type": "display_data",
          "data": {
            "image/png": "[encoded data removed]",
            "text/plain": [
              "<Figure size 432x288 with 1 Axes>"
            ]
          },
          "metadata": {
            "tags": [],
            "needs_background": "light"
          }
        }
      ]
    },
    {
      "cell_type": "code",
      "metadata": {
        "id": "dNLF6rXL5ejN"
      },
      "source": [
        "classes_to_index = dict((c, i) for i, c in enumerate(classes))\n",
        "index_to_classes = dict((v, k) for k, v in classes_to_index.items())"
      ],
      "execution_count": 19,
      "outputs": []
    },
    {
      "cell_type": "code",
      "metadata": {
        "id": "_08InVyM5ejc",
        "colab": {
          "base_uri": "https://localhost:8080/"
        },
        "outputId": "bb09b1d1-b856-4daa-c6b3-b1891f240bad"
      },
      "source": [
        "classes_to_index"
      ],
      "execution_count": 20,
      "outputs": [
        {
          "output_type": "execute_result",
          "data": {
            "text/plain": [
              "{'anger': 3, 'fear': 4, 'joy': 1, 'love': 2, 'sadness': 5, 'surprise': 0}"
            ]
          },
          "metadata": {
            "tags": []
          },
          "execution_count": 20
        }
      ]
    },
    {
      "cell_type": "code",
      "metadata": {
        "id": "AJx0hFItiJIO",
        "colab": {
          "base_uri": "https://localhost:8080/"
        },
        "outputId": "dc92c81e-26c9-44a8-d3df-5087c0ad28e1"
      },
      "source": [
        "index_to_classes"
      ],
      "execution_count": 21,
      "outputs": [
        {
          "output_type": "execute_result",
          "data": {
            "text/plain": [
              "{0: 'surprise', 1: 'joy', 2: 'love', 3: 'anger', 4: 'fear', 5: 'sadness'}"
            ]
          },
          "metadata": {
            "tags": []
          },
          "execution_count": 21
        }
      ]
    },
    {
      "cell_type": "code",
      "metadata": {
        "id": "Jq0WJYsP5ejR"
      },
      "source": [
        "names_to_ids = lambda labels: np.array([classes_to_index.get(x) for x in labels])"
      ],
      "execution_count": 22,
      "outputs": []
    },
    {
      "cell_type": "code",
      "metadata": {
        "id": "v15KnrNC5ejW",
        "colab": {
          "base_uri": "https://localhost:8080/"
        },
        "outputId": "59f47aaf-a740-40d6-a360-696b9a34de43"
      },
      "source": [
        "train_labels = names_to_ids(labels)\n",
        "print(train_labels[10])"
      ],
      "execution_count": 23,
      "outputs": [
        {
          "output_type": "stream",
          "text": [
            "5\n"
          ],
          "name": "stdout"
        }
      ]
    },
    {
      "cell_type": "markdown",
      "metadata": {
        "id": "bD4np-KsiJIS"
      },
      "source": [
        "## 7. Creating the Model"
      ]
    },
    {
      "cell_type": "code",
      "metadata": {
        "id": "OpewXxPQ5eji",
        "colab": {
          "base_uri": "https://localhost:8080/"
        },
        "outputId": "b5c14cc7-90de-4934-9826-7787fc294cb8"
      },
      "source": [
        "model = tf.keras.models.Sequential([\n",
        "    tf.keras.layers.Embedding(10000, 16, input_length=50),\n",
        "    tf.keras.layers.Bidirectional(tf.keras.layers.LSTM(20, return_sequences=True)),\n",
        "    tf.keras.layers.Bidirectional(tf.keras.layers.LSTM(20)),\n",
        "    tf.keras.layers.Dense(6, activation='softmax')\n",
        "])\n",
        "\n",
        "model.compile(\n",
        "    loss='sparse_categorical_crossentropy',\n",
        "    optimizer='adam',\n",
        "    metrics=['accuracy']\n",
        ")\n",
        "\n",
        "model.summary()"
      ],
      "execution_count": 24,
      "outputs": [
        {
          "output_type": "stream",
          "text": [
            "Model: \"sequential\"\n",
            "_________________________________________________________________\n",
            "Layer (type)                 Output Shape              Param #   \n",
            "=================================================================\n",
            "embedding (Embedding)        (None, 50, 16)            160000    \n",
            "_________________________________________________________________\n",
            "bidirectional (Bidirectional (None, 50, 40)            5920      \n",
            "_________________________________________________________________\n",
            "bidirectional_1 (Bidirection (None, 40)                9760      \n",
            "_________________________________________________________________\n",
            "dense (Dense)                (None, 6)                 246       \n",
            "=================================================================\n",
            "Total params: 175,926\n",
            "Trainable params: 175,926\n",
            "Non-trainable params: 0\n",
            "_________________________________________________________________\n"
          ],
          "name": "stdout"
        }
      ]
    },
    {
      "cell_type": "markdown",
      "metadata": {
        "id": "XiU-m6wEiJIT"
      },
      "source": [
        "## 8. Training the Model"
      ]
    },
    {
      "cell_type": "code",
      "metadata": {
        "id": "Ff7F3hCK5ejm"
      },
      "source": [
        "val_tweets, val_labels = get_tweets(val)\n",
        "val_sequences = get_sequences(tokenizer, val_tweets)\n",
        "val_labels = names_to_ids(val_labels)"
      ],
      "execution_count": 25,
      "outputs": []
    },
    {
      "cell_type": "code",
      "metadata": {
        "id": "hlMKaZ3H5ejr",
        "colab": {
          "base_uri": "https://localhost:8080/"
        },
        "outputId": "0312fa07-8257-430a-a919-df232ca5a08e"
      },
      "source": [
        "val_tweets[20], val_labels[20]"
      ],
      "execution_count": 26,
      "outputs": [
        {
          "output_type": "execute_result",
          "data": {
            "text/plain": [
              "('i just know to begin with i am going to feel shy about it', 4)"
            ]
          },
          "metadata": {
            "tags": []
          },
          "execution_count": 26
        }
      ]
    },
    {
      "cell_type": "code",
      "metadata": {
        "id": "bzBqnWQ-5ejw",
        "colab": {
          "base_uri": "https://localhost:8080/"
        },
        "outputId": "0bc22944-c411-402c-f760-285364fa581e"
      },
      "source": [
        "h = model.fit(\n",
        "    padded_train_sequences, train_labels,\n",
        "    validation_data=(val_sequences, val_labels),\n",
        "    epochs=15,\n",
        "    callbacks=[\n",
        "        tf.keras.callbacks.EarlyStopping(monitor='val_accuracy', patience=2)\n",
        "    ]\n",
        ")"
      ],
      "execution_count": 27,
      "outputs": [
        {
          "output_type": "stream",
          "text": [
            "Epoch 1/15\n",
            "500/500 [==============================] - 43s 16ms/step - loss: 1.5259 - accuracy: 0.3709 - val_loss: 0.9029 - val_accuracy: 0.6750\n",
            "Epoch 2/15\n",
            "500/500 [==============================] - 7s 14ms/step - loss: 0.6728 - accuracy: 0.7521 - val_loss: 0.5371 - val_accuracy: 0.8195\n",
            "Epoch 3/15\n",
            "500/500 [==============================] - 7s 13ms/step - loss: 0.3325 - accuracy: 0.8875 - val_loss: 0.5089 - val_accuracy: 0.8340\n",
            "Epoch 4/15\n",
            "500/500 [==============================] - 7s 14ms/step - loss: 0.2216 - accuracy: 0.9301 - val_loss: 0.4228 - val_accuracy: 0.8725\n",
            "Epoch 5/15\n",
            "500/500 [==============================] - 7s 14ms/step - loss: 0.1579 - accuracy: 0.9494 - val_loss: 0.4390 - val_accuracy: 0.8740\n",
            "Epoch 6/15\n",
            "500/500 [==============================] - 7s 14ms/step - loss: 0.1180 - accuracy: 0.9630 - val_loss: 0.4339 - val_accuracy: 0.8820\n",
            "Epoch 7/15\n",
            "500/500 [==============================] - 7s 14ms/step - loss: 0.0989 - accuracy: 0.9676 - val_loss: 0.3980 - val_accuracy: 0.8820\n",
            "Epoch 8/15\n",
            "500/500 [==============================] - 7s 14ms/step - loss: 0.0789 - accuracy: 0.9757 - val_loss: 0.3820 - val_accuracy: 0.8975\n",
            "Epoch 9/15\n",
            "500/500 [==============================] - 7s 14ms/step - loss: 0.0640 - accuracy: 0.9790 - val_loss: 0.4468 - val_accuracy: 0.8915\n",
            "Epoch 10/15\n",
            "500/500 [==============================] - 7s 13ms/step - loss: 0.0538 - accuracy: 0.9850 - val_loss: 0.4302 - val_accuracy: 0.8935\n"
          ],
          "name": "stdout"
        }
      ]
    },
    {
      "cell_type": "markdown",
      "metadata": {
        "id": "kiKaj-3RiJIV"
      },
      "source": [
        "## 9. Evaluating the Model"
      ]
    },
    {
      "cell_type": "code",
      "metadata": {
        "id": "PbI05hwKiJIV",
        "colab": {
          "base_uri": "https://localhost:8080/",
          "height": 392
        },
        "outputId": "a4cdfca3-e0f4-427b-ff7a-03e91659c496"
      },
      "source": [
        "def show_history(h):\r\n",
        "    epochs_trained = len(h.history['loss'])\r\n",
        "    plt.figure(figsize=(16, 6))\r\n",
        "\r\n",
        "    plt.subplot(1, 2, 1)\r\n",
        "    plt.plot(range(0, epochs_trained), h.history.get('accuracy'), label='Training')\r\n",
        "    plt.plot(range(0, epochs_trained), h.history.get('val_accuracy'), label='Validation')\r\n",
        "    plt.ylim([0., 1.])\r\n",
        "    plt.xlabel('Epochs')\r\n",
        "    plt.ylabel('Accuracy')\r\n",
        "    plt.legend()\r\n",
        "\r\n",
        "    plt.subplot(1, 2, 2)\r\n",
        "    plt.plot(range(0, epochs_trained), h.history.get('loss'), label='Training')\r\n",
        "    plt.plot(range(0, epochs_trained), h.history.get('val_loss'), label='Validation')\r\n",
        "    plt.xlabel('Epochs')\r\n",
        "    plt.ylabel('Loss')\r\n",
        "    plt.legend()\r\n",
        "    plt.show()\r\n",
        "\r\n",
        "show_history(h)"
      ],
      "execution_count": 28,
      "outputs": [
        {
          "output_type": "display_data",
          "data": {
            "image/png": "[encoded data removed]",
            "text/plain": [
              "<Figure size 1152x432 with 2 Axes>"
            ]
          },
          "metadata": {
            "tags": [],
            "needs_background": "light"
          }
        }
      ]
    },
    {
      "cell_type": "code",
      "metadata": {
        "id": "4xCKeBP1iJIV"
      },
      "source": [
        "test_tweets, test_labels = get_tweets(test)\n",
        "test_sequences = get_sequences(tokenizer, test_tweets)\n",
        "test_labels = names_to_ids(test_labels)"
      ],
      "execution_count": 29,
      "outputs": []
    },
    {
      "cell_type": "code",
      "metadata": {
        "id": "aM7kditpiJIV",
        "colab": {
          "base_uri": "https://localhost:8080/"
        },
        "outputId": "74835320-d476-4916-8231-d6a92f5501d4"
      },
      "source": [
        "eval = model.evaluate(test_sequences, test_labels)"
      ],
      "execution_count": 30,
      "outputs": [
        {
          "output_type": "stream",
          "text": [
            "63/63 [==============================] - 0s 6ms/step - loss: 0.4190 - accuracy: 0.8880\n"
          ],
          "name": "stdout"
        }
      ]
    },
    {
      "cell_type": "code",
      "metadata": {
        "id": "rh638vHG5ej6",
        "colab": {
          "base_uri": "https://localhost:8080/"
        },
        "outputId": "aa8f053a-58c8-4175-d517-e7121080ab69"
      },
      "source": [
        "for a in range(0,5):\n",
        "  i = random.randint(0, len(test_labels) - 1)\n",
        "\n",
        "  print('Tweet:', test_tweets[i])\n",
        "  print('Actual Emotion:', index_to_classes[test_labels[i]])\n",
        "\n",
        "  p = model.predict_classes(np.expand_dims(test_sequences[i], axis=0))[0]\n",
        "\n",
        "  print('Predicted Emotion:', index_to_classes.get(p), '\\n')"
      ],
      "execution_count": 31,
      "outputs": [
        {
          "output_type": "stream",
          "text": [
            "Tweet: i woke up and felt sad all over again but that was quickly replaced with a feeling that reassured me things will work themselves out on their own time\n",
            "Actual Emotion: joy\n",
            "Predicted Emotion: joy \n",
            "\n",
            "Tweet: i feel really irritated when i talk about my problems and people start talking about theirs\n",
            "Actual Emotion: anger\n",
            "Predicted Emotion: anger \n",
            "\n",
            "Tweet: i feel crappy i eat crappy\n",
            "Actual Emotion: sadness\n",
            "Predicted Emotion: sadness \n",
            "\n",
            "Tweet: i am feeling overwhelmed by trying to do it all that i think on the women before me\n",
            "Actual Emotion: surprise\n",
            "Predicted Emotion: fear \n",
            "\n",
            "Tweet: i finally arrived home a couple of hours later feeling somewhat exhausted dehydrated and even sun burnt\n",
            "Actual Emotion: sadness\n",
            "Predicted Emotion: sadness \n",
            "\n"
          ],
          "name": "stdout"
        }
      ]
    },
    {
      "cell_type": "code",
      "metadata": {
        "id": "_i9LUUDsiJIW",
        "colab": {
          "base_uri": "https://localhost:8080/"
        },
        "outputId": "e3272c03-82b6-4a1a-95a0-0ff17382ae75"
      },
      "source": [
        "preds = model.predict_classes(test_sequences)\n",
        "preds.shape, test_labels.shape"
      ],
      "execution_count": 32,
      "outputs": [
        {
          "output_type": "execute_result",
          "data": {
            "text/plain": [
              "((2000,), (2000,))"
            ]
          },
          "metadata": {
            "tags": []
          },
          "execution_count": 32
        }
      ]
    },
    {
      "cell_type": "code",
      "metadata": {
        "id": "3nLW-iSYiJIX",
        "colab": {
          "base_uri": "https://localhost:8080/",
          "height": 472
        },
        "outputId": "4ea77330-8ef5-4e76-cac9-494e4bf21663"
      },
      "source": [
        "def show_confusion_matrix(y_true, y_pred, classes):\r\n",
        "    from sklearn.metrics import confusion_matrix\r\n",
        "    \r\n",
        "    cm = confusion_matrix(y_true, y_pred, normalize='true')\r\n",
        "\r\n",
        "    plt.figure(figsize=(8, 8))\r\n",
        "    sp = plt.subplot(1, 1, 1)\r\n",
        "    ctx = sp.matshow(cm)\r\n",
        "    plt.xticks(list(range(0, 6)), labels=classes)\r\n",
        "    plt.yticks(list(range(0, 6)), labels=classes)\r\n",
        "    plt.colorbar(ctx)\r\n",
        "    plt.show()\r\n",
        "    \r\n",
        "show_confusion_matrix(test_labels, preds, list(classes))"
      ],
      "execution_count": 33,
      "outputs": [
        {
          "output_type": "display_data",
          "data": {
            "image/png": "[encoded data removed]",
            "text/plain": [
              "<Figure size 576x576 with 2 Axes>"
            ]
          },
          "metadata": {
            "tags": [],
            "needs_background": "light"
          }
        }
      ]
    }
  ]
}